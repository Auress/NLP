{
 "cells": [
  {
   "cell_type": "markdown",
   "metadata": {},
   "source": [
    "### Урок 6. Рекуррентные нейронные сети. LSTM. GRU.#"
   ]
  },
  {
   "cell_type": "markdown",
   "metadata": {},
   "source": [
    "### -- Автор: Шенк Евгений Станиславович"
   ]
  },
  {
   "cell_type": "markdown",
   "metadata": {},
   "source": [
    "#### Провести сравнение RNN, LSTM, GRU на датасете отзывов (из предыдущих занятий/материалов)"
   ]
  },
  {
   "cell_type": "markdown",
   "metadata": {},
   "source": [
    "Результат:  \n",
    "LSTM и GRU отработали одинаково хорошо по точности и по времени обучения (результат практически одинаковый).  \n",
    "SimpleRNN обучался в 20 раз дольше и точность оказалась значительно ниже.  "
   ]
  },
  {
   "cell_type": "code",
   "execution_count": 1,
   "metadata": {},
   "outputs": [
    {
     "name": "stderr",
     "output_type": "stream",
     "text": [
      "Using TensorFlow backend.\n"
     ]
    }
   ],
   "source": [
    "import matplotlib.pyplot as plt\n",
    "import os\n",
    "import re\n",
    "import string\n",
    "import tensorflow as tf\n",
    "import pandas as pd\n",
    "import numpy as np\n",
    "\n",
    "from tensorflow.keras import layers\n",
    "from tensorflow.keras import losses\n",
    "from tensorflow.keras import preprocessing\n",
    "from tensorflow.keras.layers.experimental.preprocessing import TextVectorization\n",
    "\n",
    "import keras\n",
    "from tensorflow.keras.models import Sequential, Model\n",
    "from tensorflow.keras.layers import Dense, Dropout, Activation, Input, Embedding, Conv1D, MaxPool1D, GlobalMaxPool1D, GlobalAveragePooling1D, Bidirectional, SimpleRNN, LSTM, GRU, Masking\n",
    "from keras.preprocessing.text import Tokenizer\n",
    "from keras.preprocessing.sequence import pad_sequences\n",
    "from keras.callbacks import TensorBoard \n",
    "from keras.objectives import categorical_crossentropy\n",
    "from tensorflow.keras.callbacks import EarlyStopping  \n",
    "\n",
    "from sklearn import model_selection, preprocessing, linear_model, naive_bayes, metrics, svm\n",
    "\n",
    "import warnings\n",
    "warnings.filterwarnings(\"ignore\")"
   ]
  },
  {
   "cell_type": "code",
   "execution_count": 2,
   "metadata": {},
   "outputs": [],
   "source": [
    "dataset_dir = '..\\data\\\\aclImdb'"
   ]
  },
  {
   "cell_type": "markdown",
   "metadata": {},
   "source": [
    "#### Удаляем лишнее"
   ]
  },
  {
   "cell_type": "code",
   "execution_count": 3,
   "metadata": {},
   "outputs": [],
   "source": [
    "train_dir = os.path.join(dataset_dir, 'train')\n",
    "test_dir = os.path.join(dataset_dir, 'test')\n",
    "remove_dir = os.path.join(train_dir, 'unsup')\n",
    "#shutil.rmtree(remove_dir)"
   ]
  },
  {
   "cell_type": "code",
   "execution_count": 4,
   "metadata": {},
   "outputs": [
    {
     "data": {
      "text/plain": [
       "'..\\\\data\\\\aclImdb\\\\train'"
      ]
     },
     "execution_count": 4,
     "metadata": {},
     "output_type": "execute_result"
    }
   ],
   "source": [
    "train_dir"
   ]
  },
  {
   "cell_type": "code",
   "execution_count": 5,
   "metadata": {},
   "outputs": [
    {
     "name": "stdout",
     "output_type": "stream",
     "text": [
      "Found 25000 files belonging to 2 classes.\n",
      "Using 20000 files for training.\n"
     ]
    }
   ],
   "source": [
    "batch_size = 32\n",
    "seed = 42\n",
    "\n",
    "raw_train_ds = tf.keras.preprocessing.text_dataset_from_directory(\n",
    "    train_dir, \n",
    "    batch_size=batch_size, \n",
    "    validation_split=0.2, \n",
    "    subset='training', \n",
    "    seed=seed)"
   ]
  },
  {
   "cell_type": "code",
   "execution_count": 6,
   "metadata": {},
   "outputs": [
    {
     "name": "stdout",
     "output_type": "stream",
     "text": [
      "Label 0 corresponds to neg\n",
      "Label 1 corresponds to pos\n"
     ]
    }
   ],
   "source": [
    "print(\"Label 0 corresponds to\", raw_train_ds.class_names[0])\n",
    "print(\"Label 1 corresponds to\", raw_train_ds.class_names[1])"
   ]
  },
  {
   "cell_type": "code",
   "execution_count": 7,
   "metadata": {},
   "outputs": [
    {
     "name": "stdout",
     "output_type": "stream",
     "text": [
      "Found 25000 files belonging to 2 classes.\n",
      "Using 5000 files for validation.\n"
     ]
    }
   ],
   "source": [
    "raw_val_ds = tf.keras.preprocessing.text_dataset_from_directory(\n",
    "    train_dir, \n",
    "    batch_size=batch_size, \n",
    "    validation_split=0.2, \n",
    "    subset='validation', \n",
    "    seed=seed)"
   ]
  },
  {
   "cell_type": "code",
   "execution_count": 8,
   "metadata": {},
   "outputs": [
    {
     "name": "stdout",
     "output_type": "stream",
     "text": [
      "Found 25000 files belonging to 2 classes.\n"
     ]
    }
   ],
   "source": [
    "raw_test_ds = tf.keras.preprocessing.text_dataset_from_directory(\n",
    "    test_dir, \n",
    "    batch_size=batch_size)"
   ]
  },
  {
   "cell_type": "markdown",
   "metadata": {},
   "source": [
    "#### Обработка данных"
   ]
  },
  {
   "cell_type": "code",
   "execution_count": 9,
   "metadata": {},
   "outputs": [],
   "source": [
    "max_features = 10000\n",
    "sequence_length = 200"
   ]
  },
  {
   "cell_type": "code",
   "execution_count": 10,
   "metadata": {},
   "outputs": [],
   "source": [
    "def custom_standardization(input_data):\n",
    "    lowercase = tf.strings.lower(input_data)\n",
    "    stripped_html = tf.strings.regex_replace(lowercase, '<br />', ' ')\n",
    "    return tf.strings.regex_replace(stripped_html,\n",
    "                                  '[%s]' % re.escape(string.punctuation),\n",
    "                                  '')"
   ]
  },
  {
   "cell_type": "code",
   "execution_count": 11,
   "metadata": {},
   "outputs": [],
   "source": [
    "vectorize_layer = TextVectorization(\n",
    "    standardize=custom_standardization,\n",
    "    max_tokens=max_features,\n",
    "    output_mode='int',\n",
    "    output_sequence_length=sequence_length)"
   ]
  },
  {
   "cell_type": "code",
   "execution_count": 12,
   "metadata": {},
   "outputs": [],
   "source": [
    "# Make a text-only dataset (without labels), then call adapt\n",
    "train_text = raw_train_ds.map(lambda x, y: x)\n",
    "vectorize_layer.adapt(train_text)"
   ]
  },
  {
   "cell_type": "code",
   "execution_count": 13,
   "metadata": {},
   "outputs": [],
   "source": [
    "def vectorize_text(text, label):\n",
    "    text = tf.expand_dims(text, -1)\n",
    "    return vectorize_layer(text), label"
   ]
  },
  {
   "cell_type": "code",
   "execution_count": 14,
   "metadata": {},
   "outputs": [],
   "source": [
    "train_ds = raw_train_ds.map(vectorize_text)\n",
    "val_ds = raw_val_ds.map(vectorize_text)\n",
    "test_ds = raw_test_ds.map(vectorize_text)"
   ]
  },
  {
   "cell_type": "code",
   "execution_count": 15,
   "metadata": {},
   "outputs": [],
   "source": [
    "AUTOTUNE = tf.data.experimental.AUTOTUNE\n",
    "\n",
    "train_ds = train_ds.cache().prefetch(buffer_size=AUTOTUNE)\n",
    "val_ds = val_ds.cache().prefetch(buffer_size=AUTOTUNE)\n",
    "test_ds = test_ds.cache().prefetch(buffer_size=AUTOTUNE)"
   ]
  },
  {
   "cell_type": "markdown",
   "metadata": {},
   "source": [
    "### Models"
   ]
  },
  {
   "cell_type": "code",
   "execution_count": 16,
   "metadata": {},
   "outputs": [],
   "source": [
    "epochs = 20\n",
    "batch_size = 64\n",
    "seed = 42\n",
    "embedding_dim = 64"
   ]
  },
  {
   "cell_type": "markdown",
   "metadata": {},
   "source": [
    "#### RNN"
   ]
  },
  {
   "cell_type": "code",
   "execution_count": 17,
   "metadata": {},
   "outputs": [],
   "source": [
    "model_rnn = Sequential()\n",
    "\n",
    "model_rnn.add(\n",
    "    Embedding(input_dim=max_features + 1,\n",
    "              output_dim=embedding_dim,\n",
    "              trainable=True,\n",
    "              mask_zero=True))\n",
    "model_rnn.add(Masking(mask_value=0.0))\n",
    "model_rnn.add(Bidirectional(SimpleRNN(8)))\n",
    "model_rnn.add(Dropout(0.5))\n",
    "model_rnn.add(Dense(64, activation='relu'))\n",
    "model_rnn.add(Dropout(0.5))\n",
    "model_rnn.add(Dense(1))\n",
    "\n",
    "model_rnn.compile(\n",
    "    optimizer='adam', loss=losses.BinaryCrossentropy(from_logits=True), metrics=['accuracy'])"
   ]
  },
  {
   "cell_type": "code",
   "execution_count": 18,
   "metadata": {},
   "outputs": [
    {
     "name": "stdout",
     "output_type": "stream",
     "text": [
      "Epoch 1/20\n",
      "625/625 [==============================] - 277s 442ms/step - loss: 0.6737 - accuracy: 0.5476 - val_loss: 0.5855 - val_accuracy: 0.7016\n",
      "Epoch 2/20\n",
      "625/625 [==============================] - 261s 417ms/step - loss: 0.5796 - accuracy: 0.6970 - val_loss: 0.5614 - val_accuracy: 0.6984\n",
      "Epoch 3/20\n",
      "625/625 [==============================] - 259s 415ms/step - loss: 0.4924 - accuracy: 0.7643 - val_loss: 0.5303 - val_accuracy: 0.7316\n",
      "Epoch 4/20\n",
      "625/625 [==============================] - 259s 414ms/step - loss: 0.4519 - accuracy: 0.7919 - val_loss: 0.5389 - val_accuracy: 0.7460\n"
     ]
    }
   ],
   "source": [
    "early_stopping=EarlyStopping(monitor='val_loss')  \n",
    "\n",
    "history_rnn = model_rnn.fit(train_ds,\n",
    "                            validation_data=val_ds,\n",
    "                            batch_size=batch_size,\n",
    "                            epochs=epochs,\n",
    "                            verbose=1,\n",
    "                            callbacks=[early_stopping])"
   ]
  },
  {
   "cell_type": "code",
   "execution_count": 19,
   "metadata": {},
   "outputs": [
    {
     "name": "stdout",
     "output_type": "stream",
     "text": [
      "782/782 [==============================] - 23s 30ms/step - loss: 0.5755 - accuracy: 0.7223\n",
      "Loss:  0.5754722952842712\n",
      "Accuracy:  0.7222800254821777\n"
     ]
    }
   ],
   "source": [
    "loss_rnn, accuracy_rnn = model_rnn.evaluate(test_ds)\n",
    "\n",
    "print(\"Loss: \", loss_rnn)\n",
    "print(\"Accuracy: \", accuracy_rnn)"
   ]
  },
  {
   "cell_type": "code",
   "execution_count": null,
   "metadata": {},
   "outputs": [],
   "source": []
  },
  {
   "cell_type": "markdown",
   "metadata": {},
   "source": [
    "#### LSTM"
   ]
  },
  {
   "cell_type": "code",
   "execution_count": 20,
   "metadata": {},
   "outputs": [],
   "source": [
    "model_lstm = Sequential()\n",
    "\n",
    "model_lstm.add(\n",
    "    Embedding(input_dim=max_features + 1,\n",
    "              output_dim=embedding_dim,\n",
    "              trainable=True,\n",
    "              mask_zero=True))\n",
    "model_lstm.add(Masking(mask_value=0.0))\n",
    "model_lstm.add(Bidirectional(LSTM(8)))\n",
    "model_lstm.add(Dropout(0.5))\n",
    "model_lstm.add(Dense(64, activation='relu'))\n",
    "model_lstm.add(Dropout(0.5))\n",
    "model_lstm.add(Dense(1))\n",
    "\n",
    "model_lstm.compile(\n",
    "    optimizer='adam', loss=losses.BinaryCrossentropy(from_logits=True), metrics=['accuracy'])\n",
    "\n",
    "early_stopping=EarlyStopping(monitor='val_loss')"
   ]
  },
  {
   "cell_type": "code",
   "execution_count": 21,
   "metadata": {},
   "outputs": [
    {
     "name": "stdout",
     "output_type": "stream",
     "text": [
      "Epoch 1/20\n",
      "625/625 [==============================] - 17s 27ms/step - loss: 0.5500 - accuracy: 0.6895 - val_loss: 0.4311 - val_accuracy: 0.7976\n",
      "Epoch 2/20\n",
      "625/625 [==============================] - 15s 24ms/step - loss: 0.3442 - accuracy: 0.8657 - val_loss: 0.3738 - val_accuracy: 0.8284\n",
      "Epoch 3/20\n",
      "625/625 [==============================] - 15s 24ms/step - loss: 0.2565 - accuracy: 0.9056 - val_loss: 0.3864 - val_accuracy: 0.8400\n"
     ]
    }
   ],
   "source": [
    "history_lstm = model_lstm.fit(train_ds,\n",
    "                            validation_data=val_ds,\n",
    "                            batch_size=batch_size,\n",
    "                            epochs=epochs,\n",
    "                            verbose=1,\n",
    "                            callbacks=[early_stopping])"
   ]
  },
  {
   "cell_type": "code",
   "execution_count": 22,
   "metadata": {},
   "outputs": [
    {
     "name": "stdout",
     "output_type": "stream",
     "text": [
      "782/782 [==============================] - 7s 9ms/step - loss: 0.4139 - accuracy: 0.8302\n",
      "Loss:  0.41392016410827637\n",
      "Accuracy:  0.83024001121521\n"
     ]
    }
   ],
   "source": [
    "loss_lstm, accuracy_lstm = model_lstm.evaluate(test_ds)\n",
    "\n",
    "print(\"Loss: \", loss_lstm)\n",
    "print(\"Accuracy: \", accuracy_lstm)"
   ]
  },
  {
   "cell_type": "code",
   "execution_count": null,
   "metadata": {},
   "outputs": [],
   "source": []
  },
  {
   "cell_type": "markdown",
   "metadata": {},
   "source": [
    "#### GRU"
   ]
  },
  {
   "cell_type": "code",
   "execution_count": 23,
   "metadata": {},
   "outputs": [],
   "source": [
    "model_gru = Sequential()\n",
    "\n",
    "model_gru.add(\n",
    "    Embedding(input_dim=max_features + 1,\n",
    "              output_dim=embedding_dim,\n",
    "              trainable=True,\n",
    "              mask_zero=True))\n",
    "model_gru.add(Masking(mask_value=0.0))\n",
    "model_gru.add(Bidirectional(GRU(8)))\n",
    "model_gru.add(Dropout(0.5))\n",
    "model_gru.add(Dense(64, activation='relu'))\n",
    "model_gru.add(Dropout(0.5))\n",
    "model_gru.add(Dense(1))\n",
    "\n",
    "model_gru.compile(\n",
    "    optimizer='adam', loss=losses.BinaryCrossentropy(from_logits=True), metrics=['accuracy'])\n",
    "\n",
    "early_stopping=EarlyStopping(monitor='val_loss')"
   ]
  },
  {
   "cell_type": "code",
   "execution_count": 24,
   "metadata": {},
   "outputs": [
    {
     "name": "stdout",
     "output_type": "stream",
     "text": [
      "Epoch 1/20\n",
      "625/625 [==============================] - 17s 27ms/step - loss: 0.6359 - accuracy: 0.5846 - val_loss: 0.4919 - val_accuracy: 0.7570\n",
      "Epoch 2/20\n",
      "625/625 [==============================] - 15s 24ms/step - loss: 0.4134 - accuracy: 0.8200 - val_loss: 0.4216 - val_accuracy: 0.8276\n",
      "Epoch 3/20\n",
      "625/625 [==============================] - 15s 23ms/step - loss: 0.2925 - accuracy: 0.8908 - val_loss: 0.3733 - val_accuracy: 0.8516\n",
      "Epoch 4/20\n",
      "625/625 [==============================] - 15s 23ms/step - loss: 0.2179 - accuracy: 0.9281 - val_loss: 0.3912 - val_accuracy: 0.8506\n"
     ]
    }
   ],
   "source": [
    "history_gru = model_gru.fit(train_ds,\n",
    "                            validation_data=val_ds,\n",
    "                            batch_size=batch_size,\n",
    "                            epochs=epochs,\n",
    "                            verbose=1,\n",
    "                            callbacks=[early_stopping])"
   ]
  },
  {
   "cell_type": "code",
   "execution_count": 25,
   "metadata": {},
   "outputs": [
    {
     "name": "stdout",
     "output_type": "stream",
     "text": [
      "782/782 [==============================] - 7s 9ms/step - loss: 0.4576 - accuracy: 0.8293\n",
      "Loss:  0.45755547285079956\n",
      "Accuracy:  0.8292800188064575\n"
     ]
    }
   ],
   "source": [
    "loss_gru, accuracy_gru = model_gru.evaluate(test_ds)\n",
    "\n",
    "print(\"Loss: \", loss_gru)\n",
    "print(\"Accuracy: \", accuracy_gru)"
   ]
  },
  {
   "cell_type": "code",
   "execution_count": null,
   "metadata": {},
   "outputs": [],
   "source": []
  }
 ],
 "metadata": {
  "kernelspec": {
   "display_name": "Python 3",
   "language": "python",
   "name": "python3"
  },
  "language_info": {
   "codemirror_mode": {
    "name": "ipython",
    "version": 3
   },
   "file_extension": ".py",
   "mimetype": "text/x-python",
   "name": "python",
   "nbconvert_exporter": "python",
   "pygments_lexer": "ipython3",
   "version": "3.7.7"
  }
 },
 "nbformat": 4,
 "nbformat_minor": 4
}
