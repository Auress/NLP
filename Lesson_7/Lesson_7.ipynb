{
 "cells": [
  {
   "cell_type": "markdown",
   "metadata": {},
   "source": [
    "### Урок 7#"
   ]
  },
  {
   "cell_type": "markdown",
   "metadata": {},
   "source": [
    "### -- Автор: Шенк Евгений Станиславович"
   ]
  },
  {
   "cell_type": "markdown",
   "metadata": {},
   "source": [
    "Запустить seq2seq без внимания, seq2seq с внимаием для перевода русских слов + описать наблюдения по качеству\n",
    "Данные в папке data"
   ]
  },
  {
   "cell_type": "markdown",
   "metadata": {},
   "source": [
    "### Выполнение:   \n",
    "Обучены 2 модели seq2seq без внимания (нотбук из архива с занятия) и с вниманием (такой же нотбук, только с сайта Tensorflow без удаления внимания). 50 эпох.  \n",
    "Переводы полученные с использованием внимания, получились гораздо лучше, хотя и не идеальные.  \n",
    "Время обучения модели с вниманием получилось на ~60% дольше, чем без внимания.  \n",
    "Результаты переводов с различными моделями находятся в конце нотбука.  "
   ]
  },
  {
   "cell_type": "markdown",
   "metadata": {
    "id": "J0Qjg6vuaHNt"
   },
   "source": [
    "# Neural machine translation"
   ]
  },
  {
   "cell_type": "code",
   "execution_count": 1,
   "metadata": {
    "executionInfo": {
     "elapsed": 3031,
     "status": "ok",
     "timestamp": 1606151259804,
     "user": {
      "displayName": "Roman Zakharov",
      "photoUrl": "",
      "userId": "18255168926005506833"
     },
     "user_tz": -180
    },
    "id": "tnxXKDjq3jEL"
   },
   "outputs": [],
   "source": [
    "import tensorflow as tf\n",
    "\n",
    "import matplotlib.pyplot as plt\n",
    "import matplotlib.ticker as ticker\n",
    "from sklearn.model_selection import train_test_split\n",
    "\n",
    "import unicodedata\n",
    "import re\n",
    "import numpy as np\n",
    "import os\n",
    "import io\n",
    "import time"
   ]
  },
  {
   "cell_type": "markdown",
   "metadata": {
    "id": "wfodePkj3jEa"
   },
   "source": [
    "## Download and prepare the dataset\n",
    "\n",
    "We'll use a language dataset provided by http://www.manythings.org/anki/"
   ]
  },
  {
   "cell_type": "code",
   "execution_count": 2,
   "metadata": {
    "colab": {
     "base_uri": "https://localhost:8080/"
    },
    "executionInfo": {
     "elapsed": 41492,
     "status": "ok",
     "timestamp": 1606151208406,
     "user": {
      "displayName": "Roman Zakharov",
      "photoUrl": "",
      "userId": "18255168926005506833"
     },
     "user_tz": -180
    },
    "id": "CNvjhDyAKk3U",
    "outputId": "9ea8f8e0-5589-4178-961f-4f068f3f9f77"
   },
   "outputs": [],
   "source": [
    "# !wget http://www.manythings.org/anki/rus-eng.zip"
   ]
  },
  {
   "cell_type": "code",
   "execution_count": 3,
   "metadata": {
    "colab": {
     "base_uri": "https://localhost:8080/"
    },
    "executionInfo": {
     "elapsed": 1785,
     "status": "ok",
     "timestamp": 1606151270774,
     "user": {
      "displayName": "Roman Zakharov",
      "photoUrl": "",
      "userId": "18255168926005506833"
     },
     "user_tz": -180
    },
    "id": "83bg17Lr-7XK",
    "outputId": "955b8cae-5f8c-44da-aabd-11f826582455"
   },
   "outputs": [],
   "source": [
    "# !mkdir rus-eng\n",
    "# !unzip rus-eng.zip -d rus-eng/"
   ]
  },
  {
   "cell_type": "code",
   "execution_count": 4,
   "metadata": {
    "colab": {
     "base_uri": "https://localhost:8080/"
    },
    "executionInfo": {
     "elapsed": 2016,
     "status": "ok",
     "timestamp": 1606151272669,
     "user": {
      "displayName": "Roman Zakharov",
      "photoUrl": "",
      "userId": "18255168926005506833"
     },
     "user_tz": -180
    },
    "id": "7o5L92efMMhf",
    "outputId": "8e75c2a4-8601-45ba-8118-dbdaadc49fc1"
   },
   "outputs": [],
   "source": [
    "# !ls /content/rus-eng/ -lah"
   ]
  },
  {
   "cell_type": "code",
   "execution_count": 5,
   "metadata": {
    "executionInfo": {
     "elapsed": 588,
     "status": "ok",
     "timestamp": 1606151273224,
     "user": {
      "displayName": "Roman Zakharov",
      "photoUrl": "",
      "userId": "18255168926005506833"
     },
     "user_tz": -180
    },
    "id": "kRVATYOgJs1b"
   },
   "outputs": [],
   "source": [
    "# Download the file\n",
    "path_to_file = \"../data/content/rus-eng/rus.txt\""
   ]
  },
  {
   "cell_type": "code",
   "execution_count": 6,
   "metadata": {
    "executionInfo": {
     "elapsed": 1347,
     "status": "ok",
     "timestamp": 1606151278749,
     "user": {
      "displayName": "Roman Zakharov",
      "photoUrl": "",
      "userId": "18255168926005506833"
     },
     "user_tz": -180
    },
    "id": "rd0jw-eC3jEh"
   },
   "outputs": [],
   "source": [
    "def preprocess_sentence(w):\n",
    "    w = w.lower().strip()\n",
    "\n",
    "    # creating a space between a word and the punctuation following it\n",
    "    # eg: \"he is a boy.\" => \"he is a boy .\"\n",
    "    # Reference:- https://stackoverflow.com/questions/3645931/python-padding-punctuation-with-white-spaces-keeping-punctuation\n",
    "    w = re.sub(r\"([?.!,])\", r\" \\1 \", w)\n",
    "    w = re.sub(r'[\" \"]+', \" \", w)\n",
    "\n",
    "    # replacing everything with space except (a-z, A-Z, \".\", \"?\", \"!\", \",\")\n",
    "    w = re.sub(r\"[^a-zA-Zа-яА-Я?.!,']+\", \" \", w)\n",
    "\n",
    "    w = w.strip()\n",
    "\n",
    "    # adding a start and an end token to the sentence\n",
    "    # so that the model know when to start and stop predicting.\n",
    "    w = '<start> ' + w + ' <end>'\n",
    "    return w"
   ]
  },
  {
   "cell_type": "code",
   "execution_count": 7,
   "metadata": {
    "colab": {
     "base_uri": "https://localhost:8080/",
     "height": 35
    },
    "executionInfo": {
     "elapsed": 1399,
     "status": "ok",
     "timestamp": 1606151282035,
     "user": {
      "displayName": "Roman Zakharov",
      "photoUrl": "",
      "userId": "18255168926005506833"
     },
     "user_tz": -180
    },
    "id": "yV9lZXQXNbnH",
    "outputId": "91c2ca2a-4e3a-4cb2-a4b6-57898c682af6"
   },
   "outputs": [
    {
     "data": {
      "text/plain": [
       "\"<start> i can't go . <end>\""
      ]
     },
     "execution_count": 7,
     "metadata": {},
     "output_type": "execute_result"
    }
   ],
   "source": [
    "preprocess_sentence(\"I can't go.\")"
   ]
  },
  {
   "cell_type": "code",
   "execution_count": 8,
   "metadata": {
    "executionInfo": {
     "elapsed": 1109,
     "status": "ok",
     "timestamp": 1606151284789,
     "user": {
      "displayName": "Roman Zakharov",
      "photoUrl": "",
      "userId": "18255168926005506833"
     },
     "user_tz": -180
    },
    "id": "OHn4Dct23jEm"
   },
   "outputs": [],
   "source": [
    "# 1. Remove the accents\n",
    "# 2. Clean the sentences\n",
    "# 3. Return word pairs in the format: [ENGLISH, SPANISH]\n",
    "def create_dataset(path, num_examples):\n",
    "    lines = io.open(path, encoding='UTF-8').read().strip().split('\\n')\n",
    "\n",
    "    word_pairs = [[preprocess_sentence(w) for w in l.split('\\t')[:2]]  for l in lines[:num_examples]]\n",
    "\n",
    "    return zip(*word_pairs)"
   ]
  },
  {
   "cell_type": "code",
   "execution_count": 9,
   "metadata": {
    "colab": {
     "base_uri": "https://localhost:8080/"
    },
    "executionInfo": {
     "elapsed": 9856,
     "status": "ok",
     "timestamp": 1606151313471,
     "user": {
      "displayName": "Roman Zakharov",
      "photoUrl": "",
      "userId": "18255168926005506833"
     },
     "user_tz": -180
    },
    "id": "cTbSbBz55QtF",
    "outputId": "68deb5e0-bf6c-4e8e-8cf9-f19a1ab4bb4e"
   },
   "outputs": [
    {
     "name": "stdout",
     "output_type": "stream",
     "text": [
      "<start> doubtless there exists in this world precisely the right woman for any given man to marry and vice versa but when you consider that a human being has the opportunity of being acquainted with only a few hundred people , and out of the few hundred that there are but a dozen or less whom he knows intimately , and out of the dozen , one or two friends at most , it will easily be seen , when we remember the number of millions who inhabit this world , that probably , since the earth was created , the right man has never yet met the right woman . <end>\n",
      "<start> несомненно , для каждого мужчины в этом мире где то есть подходящая женщина , которая может стать ему женой , обратное верно и для женщин . но если учесть , что у человека может быть максимум несколько сотен знакомых , из которых лишь дюжина , а то и меньше , тех , кого он знает близко , а из этой дюжины у него один или от силы два друга , то можно легко увидеть , что с уч том миллионов живущих на земле людей , ни один подходящий мужчина , возможно , ещ не встретил подходящую женщину . <end>\n"
     ]
    }
   ],
   "source": [
    "en, ru = create_dataset(path_to_file, None)\n",
    "print(en[-1])\n",
    "print(ru[-1])"
   ]
  },
  {
   "cell_type": "code",
   "execution_count": 10,
   "metadata": {
    "executionInfo": {
     "elapsed": 1265,
     "status": "ok",
     "timestamp": 1606151313477,
     "user": {
      "displayName": "Roman Zakharov",
      "photoUrl": "",
      "userId": "18255168926005506833"
     },
     "user_tz": -180
    },
    "id": "bIOn8RCNDJXG"
   },
   "outputs": [],
   "source": [
    "def tokenize(lang):\n",
    "    lang_tokenizer = tf.keras.preprocessing.text.Tokenizer(\n",
    "        filters='')\n",
    "    lang_tokenizer.fit_on_texts(lang)\n",
    "\n",
    "    tensor = lang_tokenizer.texts_to_sequences(lang)\n",
    "\n",
    "    tensor = tf.keras.preprocessing.sequence.pad_sequences(tensor,\n",
    "                                                             padding='post')\n",
    "\n",
    "    return tensor, lang_tokenizer"
   ]
  },
  {
   "cell_type": "code",
   "execution_count": 11,
   "metadata": {
    "executionInfo": {
     "elapsed": 1316,
     "status": "ok",
     "timestamp": 1606151318172,
     "user": {
      "displayName": "Roman Zakharov",
      "photoUrl": "",
      "userId": "18255168926005506833"
     },
     "user_tz": -180
    },
    "id": "eAY9k49G3jE_"
   },
   "outputs": [],
   "source": [
    "def load_dataset(path, num_examples=None):\n",
    "    # creating cleaned input, output pairs\n",
    "    targ_lang, inp_lang = create_dataset(path, num_examples)\n",
    "\n",
    "    input_tensor, inp_lang_tokenizer = tokenize(inp_lang)\n",
    "    target_tensor, targ_lang_tokenizer = tokenize(targ_lang)\n",
    "\n",
    "    return input_tensor, target_tensor, inp_lang_tokenizer, targ_lang_tokenizer"
   ]
  },
  {
   "cell_type": "markdown",
   "metadata": {
    "id": "GOi42V79Ydlr"
   },
   "source": [
    "### Limit the size of the dataset to experiment faster (optional)\n"
   ]
  },
  {
   "cell_type": "code",
   "execution_count": 12,
   "metadata": {
    "colab": {
     "base_uri": "https://localhost:8080/"
    },
    "executionInfo": {
     "elapsed": 1399,
     "status": "ok",
     "timestamp": 1606151343864,
     "user": {
      "displayName": "Roman Zakharov",
      "photoUrl": "",
      "userId": "18255168926005506833"
     },
     "user_tz": -180
    },
    "id": "C8j9g9AnIeZV",
    "outputId": "07e6e03d-4a80-4419-c092-bedfaffd87b8"
   },
   "outputs": [
    {
     "data": {
      "text/plain": [
       "(392305, 392305)"
      ]
     },
     "execution_count": 12,
     "metadata": {},
     "output_type": "execute_result"
    }
   ],
   "source": [
    "len(en), len(ru)"
   ]
  },
  {
   "cell_type": "code",
   "execution_count": 13,
   "metadata": {
    "executionInfo": {
     "elapsed": 6187,
     "status": "ok",
     "timestamp": 1606151353899,
     "user": {
      "displayName": "Roman Zakharov",
      "photoUrl": "",
      "userId": "18255168926005506833"
     },
     "user_tz": -180
    },
    "id": "cnxC7q-j3jFD"
   },
   "outputs": [],
   "source": [
    "# Try experimenting with the size of that dataset\n",
    "num_examples = 100000\n",
    "input_tensor, target_tensor, inp_lang, targ_lang = load_dataset(path_to_file, num_examples)\n",
    "\n",
    "# Calculate max_length of the target tensors\n",
    "max_length_targ, max_length_inp = target_tensor.shape[1], input_tensor.shape[1]"
   ]
  },
  {
   "cell_type": "code",
   "execution_count": 14,
   "metadata": {
    "colab": {
     "base_uri": "https://localhost:8080/"
    },
    "executionInfo": {
     "elapsed": 1582,
     "status": "ok",
     "timestamp": 1606151357291,
     "user": {
      "displayName": "Roman Zakharov",
      "photoUrl": "",
      "userId": "18255168926005506833"
     },
     "user_tz": -180
    },
    "id": "4QILQkOs3jFG",
    "outputId": "cd610938-12a5-4618-9ddd-a8777253e6ac"
   },
   "outputs": [
    {
     "name": "stdout",
     "output_type": "stream",
     "text": [
      "80000 80000 20000 20000\n"
     ]
    }
   ],
   "source": [
    "# Creating training and validation sets using an 80-20 split\n",
    "input_tensor_train, input_tensor_val, target_tensor_train, target_tensor_val = train_test_split(input_tensor, target_tensor, test_size=0.2)\n",
    "\n",
    "# Show length\n",
    "print(len(input_tensor_train), len(target_tensor_train), len(input_tensor_val), len(target_tensor_val))"
   ]
  },
  {
   "cell_type": "code",
   "execution_count": 15,
   "metadata": {
    "executionInfo": {
     "elapsed": 1349,
     "status": "ok",
     "timestamp": 1606151358080,
     "user": {
      "displayName": "Roman Zakharov",
      "photoUrl": "",
      "userId": "18255168926005506833"
     },
     "user_tz": -180
    },
    "id": "lJPmLZGMeD5q"
   },
   "outputs": [],
   "source": [
    "def convert(lang, tensor):\n",
    "    for t in tensor:\n",
    "        if t!=0:\n",
    "            print (\"%d ----> %s\" % (t, lang.index_word[t]))"
   ]
  },
  {
   "cell_type": "code",
   "execution_count": 16,
   "metadata": {
    "colab": {
     "base_uri": "https://localhost:8080/"
    },
    "executionInfo": {
     "elapsed": 1289,
     "status": "ok",
     "timestamp": 1606151362276,
     "user": {
      "displayName": "Roman Zakharov",
      "photoUrl": "",
      "userId": "18255168926005506833"
     },
     "user_tz": -180
    },
    "id": "VXukARTDd7MT",
    "outputId": "a3c58700-25d9-4093-cc2a-4cea4c26637b"
   },
   "outputs": [
    {
     "name": "stdout",
     "output_type": "stream",
     "text": [
      "Input Language; index to word mapping\n",
      "1 ----> <start>\n",
      "4 ----> я\n",
      "630 ----> боюсь\n",
      "790 ----> кошек\n",
      "3 ----> .\n",
      "2 ----> <end>\n",
      "\n",
      "Target Language; index to word mapping\n",
      "1 ----> <start>\n",
      "13 ----> i'm\n",
      "244 ----> afraid\n",
      "59 ----> of\n",
      "451 ----> cats\n",
      "3 ----> .\n",
      "2 ----> <end>\n"
     ]
    }
   ],
   "source": [
    "print (\"Input Language; index to word mapping\")\n",
    "convert(inp_lang, input_tensor_train[0])\n",
    "print ()\n",
    "print (\"Target Language; index to word mapping\")\n",
    "convert(targ_lang, target_tensor_train[0])"
   ]
  },
  {
   "cell_type": "markdown",
   "metadata": {
    "id": "rgCLkfv5uO3d"
   },
   "source": [
    "### Create a tf.data dataset"
   ]
  },
  {
   "cell_type": "code",
   "execution_count": 17,
   "metadata": {
    "executionInfo": {
     "elapsed": 6655,
     "status": "ok",
     "timestamp": 1606151374610,
     "user": {
      "displayName": "Roman Zakharov",
      "photoUrl": "",
      "userId": "18255168926005506833"
     },
     "user_tz": -180
    },
    "id": "TqHsArVZ3jFS"
   },
   "outputs": [],
   "source": [
    "BUFFER_SIZE = len(input_tensor_train)\n",
    "BATCH_SIZE = 64\n",
    "steps_per_epoch = len(input_tensor_train)//BATCH_SIZE\n",
    "embedding_dim = 256\n",
    "units = 1024\n",
    "vocab_inp_size = len(inp_lang.word_index)+1\n",
    "vocab_tar_size = len(targ_lang.word_index)+1\n",
    "\n",
    "dataset = tf.data.Dataset.from_tensor_slices((input_tensor_train, target_tensor_train)).shuffle(BUFFER_SIZE)\n",
    "dataset = dataset.batch(BATCH_SIZE, drop_remainder=True)"
   ]
  },
  {
   "cell_type": "code",
   "execution_count": 18,
   "metadata": {
    "colab": {
     "base_uri": "https://localhost:8080/"
    },
    "executionInfo": {
     "elapsed": 1495,
     "status": "ok",
     "timestamp": 1606151377669,
     "user": {
      "displayName": "Roman Zakharov",
      "photoUrl": "",
      "userId": "18255168926005506833"
     },
     "user_tz": -180
    },
    "id": "qc6-NK1GtWQt",
    "outputId": "d49eb7f4-eed6-43fa-91e9-2a142698e60f"
   },
   "outputs": [
    {
     "data": {
      "text/plain": [
       "(TensorShape([64, 15]), TensorShape([64, 11]))"
      ]
     },
     "execution_count": 18,
     "metadata": {},
     "output_type": "execute_result"
    }
   ],
   "source": [
    "example_input_batch, example_target_batch = next(iter(dataset))\n",
    "example_input_batch.shape, example_target_batch.shape"
   ]
  },
  {
   "cell_type": "markdown",
   "metadata": {},
   "source": [
    "## 1. No attention"
   ]
  },
  {
   "cell_type": "code",
   "execution_count": 23,
   "metadata": {
    "executionInfo": {
     "elapsed": 871,
     "status": "ok",
     "timestamp": 1606151380727,
     "user": {
      "displayName": "Roman Zakharov",
      "photoUrl": "",
      "userId": "18255168926005506833"
     },
     "user_tz": -180
    },
    "id": "nZ2rI24i3jFg"
   },
   "outputs": [],
   "source": [
    "class Encoder(tf.keras.Model):\n",
    "    def __init__(self, vocab_size, embedding_dim, enc_units, batch_sz):\n",
    "        super(Encoder, self).__init__()\n",
    "        self.batch_sz = batch_sz\n",
    "        self.enc_units = enc_units\n",
    "        self.embedding = tf.keras.layers.Embedding(vocab_size, embedding_dim)\n",
    "        self.gru = tf.keras.layers.GRU(self.enc_units,\n",
    "                                       return_sequences=False,\n",
    "                                       return_state=False,\n",
    "                                       recurrent_initializer='glorot_uniform')\n",
    "\n",
    "    def call(self, x, hidden):\n",
    "        x = self.embedding(x)\n",
    "        state = self.gru(x, initial_state = hidden)\n",
    "        return state\n",
    "\n",
    "    def initialize_hidden_state(self):\n",
    "        return tf.zeros((self.batch_sz, self.enc_units))"
   ]
  },
  {
   "cell_type": "code",
   "execution_count": 24,
   "metadata": {
    "colab": {
     "base_uri": "https://localhost:8080/"
    },
    "executionInfo": {
     "elapsed": 5438,
     "status": "ok",
     "timestamp": 1606151386905,
     "user": {
      "displayName": "Roman Zakharov",
      "photoUrl": "",
      "userId": "18255168926005506833"
     },
     "user_tz": -180
    },
    "id": "60gSVh05Jl6l",
    "outputId": "3d84b8d3-5b59-457c-ac45-b35cc297d581"
   },
   "outputs": [
    {
     "name": "stdout",
     "output_type": "stream",
     "text": [
      "Encoder Hidden state shape: (batch size, units) (64, 1024)\n"
     ]
    }
   ],
   "source": [
    "encoder = Encoder(vocab_inp_size, embedding_dim, units, BATCH_SIZE)\n",
    "\n",
    "# sample input\n",
    "sample_hidden = encoder.initialize_hidden_state()\n",
    "sample_hidden = encoder(example_input_batch, sample_hidden)\n",
    "# print ('Encoder output shape: (batch size, sequence length, units) {}'.format(sample_output.shape))\n",
    "print ('Encoder Hidden state shape: (batch size, units) {}'.format(sample_hidden.shape))"
   ]
  },
  {
   "cell_type": "code",
   "execution_count": 25,
   "metadata": {
    "executionInfo": {
     "elapsed": 1358,
     "status": "ok",
     "timestamp": 1606151389034,
     "user": {
      "displayName": "Roman Zakharov",
      "photoUrl": "",
      "userId": "18255168926005506833"
     },
     "user_tz": -180
    },
    "id": "yJ_B3mhW3jFk"
   },
   "outputs": [],
   "source": [
    "class Decoder(tf.keras.Model):\n",
    "    def __init__(self, vocab_size, embedding_dim, dec_units, batch_sz):\n",
    "        super(Decoder, self).__init__()\n",
    "        self.batch_sz = batch_sz\n",
    "        self.dec_units = dec_units\n",
    "        self.embedding = tf.keras.layers.Embedding(vocab_size, embedding_dim)\n",
    "        self.gru = tf.keras.layers.GRU(self.dec_units,\n",
    "                                       return_sequences=True,\n",
    "                                       return_state=True,\n",
    "                                       recurrent_initializer='glorot_uniform')\n",
    "        self.fc = tf.keras.layers.Dense(vocab_size)\n",
    "\n",
    "        # used for attention\n",
    "        # self.attention = BahdanauAttention(self.dec_units)\n",
    "\n",
    "    def call(self, x, hidden):\n",
    "        # enc_output shape == (batch_size, max_length, hidden_size)\n",
    "\n",
    "        # x shape after passing through embedding == (batch_size, 1, embedding_dim)\n",
    "        x = self.embedding(x)\n",
    "\n",
    "        # x shape after concatenation == (batch_size, 1, embedding_dim + hidden_size)\n",
    "\n",
    "        # passing the concatenated vector to the GRU\n",
    "        output, state = self.gru(x, initial_state=hidden)\n",
    "\n",
    "        # output shape == (batch_size * 1, hidden_size)\n",
    "        output = tf.reshape(output, (-1, output.shape[2]))\n",
    "\n",
    "        # output shape == (batch_size, vocab)\n",
    "        x = self.fc(output)\n",
    "\n",
    "        return x, state"
   ]
  },
  {
   "cell_type": "code",
   "execution_count": 26,
   "metadata": {
    "executionInfo": {
     "elapsed": 2377,
     "status": "ok",
     "timestamp": 1606151395519,
     "user": {
      "displayName": "Roman Zakharov",
      "photoUrl": "",
      "userId": "18255168926005506833"
     },
     "user_tz": -180
    },
    "id": "P5UY8wko3jFp"
   },
   "outputs": [],
   "source": [
    "decoder = Decoder(vocab_tar_size, embedding_dim, units, BATCH_SIZE)\n",
    "\n",
    "decoder_sample_x, decoder_sample_h = decoder(tf.random.uniform((BATCH_SIZE, 1)),\n",
    "                                      sample_hidden)"
   ]
  },
  {
   "cell_type": "code",
   "execution_count": 27,
   "metadata": {
    "colab": {
     "base_uri": "https://localhost:8080/"
    },
    "executionInfo": {
     "elapsed": 1344,
     "status": "ok",
     "timestamp": 1606151402460,
     "user": {
      "displayName": "Roman Zakharov",
      "photoUrl": "",
      "userId": "18255168926005506833"
     },
     "user_tz": -180
    },
    "id": "6y0HF-zMF_vp",
    "outputId": "35e0f328-05a3-475d-8fe6-3961a429c117"
   },
   "outputs": [
    {
     "data": {
      "text/plain": [
       "TensorShape([64, 1024])"
      ]
     },
     "execution_count": 27,
     "metadata": {},
     "output_type": "execute_result"
    }
   ],
   "source": [
    "decoder_sample_h.shape"
   ]
  },
  {
   "cell_type": "markdown",
   "metadata": {
    "id": "_ch_71VbIRfK"
   },
   "source": [
    "## Define the optimizer and the loss function"
   ]
  },
  {
   "cell_type": "code",
   "execution_count": 28,
   "metadata": {
    "executionInfo": {
     "elapsed": 1012,
     "status": "ok",
     "timestamp": 1606151481604,
     "user": {
      "displayName": "Roman Zakharov",
      "photoUrl": "",
      "userId": "18255168926005506833"
     },
     "user_tz": -180
    },
    "id": "WmTHr5iV3jFr"
   },
   "outputs": [],
   "source": [
    "optimizer = tf.keras.optimizers.Adam()\n",
    "loss_object = tf.keras.losses.SparseCategoricalCrossentropy(\n",
    "    from_logits=True, reduction='none')\n",
    "\n",
    "def loss_function(real, pred):\n",
    "    mask = tf.math.logical_not(tf.math.equal(real, 0))\n",
    "    loss_ = loss_object(real, pred)\n",
    "\n",
    "    mask = tf.cast(mask, dtype=loss_.dtype)\n",
    "    loss_ *= mask\n",
    "\n",
    "    return tf.reduce_mean(loss_)"
   ]
  },
  {
   "cell_type": "markdown",
   "metadata": {
    "id": "DMVWzzsfNl4e"
   },
   "source": [
    "## Checkpoints (Object-based saving)"
   ]
  },
  {
   "cell_type": "code",
   "execution_count": 30,
   "metadata": {
    "executionInfo": {
     "elapsed": 1367,
     "status": "ok",
     "timestamp": 1606151488258,
     "user": {
      "displayName": "Roman Zakharov",
      "photoUrl": "",
      "userId": "18255168926005506833"
     },
     "user_tz": -180
    },
    "id": "Zj8bXQTgNwrF"
   },
   "outputs": [],
   "source": [
    "checkpoint_dir = './training_checkpoints/no_attention'\n",
    "checkpoint_prefix = os.path.join(checkpoint_dir, \"ckpt\")\n",
    "checkpoint = tf.train.Checkpoint(optimizer=optimizer,\n",
    "                                 encoder=encoder,\n",
    "                                 decoder=decoder)"
   ]
  },
  {
   "cell_type": "code",
   "execution_count": 31,
   "metadata": {
    "executionInfo": {
     "elapsed": 1536,
     "status": "ok",
     "timestamp": 1606151514774,
     "user": {
      "displayName": "Roman Zakharov",
      "photoUrl": "",
      "userId": "18255168926005506833"
     },
     "user_tz": -180
    },
    "id": "sC9ArXSsVfqn"
   },
   "outputs": [],
   "source": [
    "@tf.function\n",
    "def train_step(inp, targ, enc_hidden):\n",
    "  loss = 0\n",
    "\n",
    "  with tf.GradientTape() as tape:\n",
    "    enc_hidden = encoder(inp, enc_hidden)\n",
    "\n",
    "    dec_hidden = enc_hidden\n",
    "\n",
    "    dec_input = tf.expand_dims([targ_lang.word_index['<start>']] * BATCH_SIZE, 1)\n",
    "\n",
    "    # Teacher forcing - feeding the target as the next input\n",
    "    for t in range(1, targ.shape[1]):\n",
    "      # passing enc_output to the decoder\n",
    "      predictions, dec_hidden = decoder(dec_input, dec_hidden)\n",
    "\n",
    "      loss += loss_function(targ[:, t], predictions)\n",
    "\n",
    "      # using teacher forcing\n",
    "      dec_input = tf.expand_dims(targ[:, t], 1)\n",
    "\n",
    "  batch_loss = (loss / int(targ.shape[1]))\n",
    "\n",
    "  variables = encoder.trainable_variables + decoder.trainable_variables\n",
    "\n",
    "  gradients = tape.gradient(loss, variables)\n",
    "\n",
    "  optimizer.apply_gradients(zip(gradients, variables))\n",
    "\n",
    "  return batch_loss"
   ]
  },
  {
   "cell_type": "code",
   "execution_count": 32,
   "metadata": {
    "colab": {
     "base_uri": "https://localhost:8080/"
    },
    "id": "ddefjBMa3jF0",
    "outputId": "c431b4f1-b28f-4266-ccf6-b172905843b9"
   },
   "outputs": [
    {
     "name": "stdout",
     "output_type": "stream",
     "text": [
      "Epoch 1 Batch 0 Loss 4.7452\n",
      "Epoch 1 Batch 100 Loss 2.0768\n",
      "Epoch 1 Batch 200 Loss 2.0103\n",
      "Epoch 1 Batch 300 Loss 1.6176\n",
      "Epoch 1 Batch 400 Loss 1.5127\n",
      "Epoch 1 Batch 500 Loss 1.5004\n",
      "Epoch 1 Batch 600 Loss 1.2426\n",
      "Epoch 1 Batch 700 Loss 1.2518\n",
      "Epoch 1 Batch 800 Loss 1.1869\n",
      "Epoch 1 Batch 900 Loss 1.2251\n",
      "Epoch 1 Batch 1000 Loss 1.2024\n",
      "Epoch 1 Batch 1100 Loss 1.0132\n",
      "Epoch 1 Batch 1200 Loss 1.0867\n",
      "Epoch 1 Loss 1.4502\n",
      "Time taken for 1 epoch 120.46971464157104 sec\n",
      "\n",
      "Epoch 2 Batch 0 Loss 0.8925\n",
      "Epoch 2 Batch 100 Loss 0.7740\n",
      "Epoch 2 Batch 200 Loss 0.7769\n",
      "Epoch 2 Batch 300 Loss 0.6699\n",
      "Epoch 2 Batch 400 Loss 0.7893\n",
      "Epoch 2 Batch 500 Loss 0.6893\n",
      "Epoch 2 Batch 600 Loss 0.6924\n",
      "Epoch 2 Batch 700 Loss 0.6324\n",
      "Epoch 2 Batch 800 Loss 0.6196\n",
      "Epoch 2 Batch 900 Loss 0.7331\n",
      "Epoch 2 Batch 1000 Loss 0.6406\n",
      "Epoch 2 Batch 1100 Loss 0.5486\n",
      "Epoch 2 Batch 1200 Loss 0.6211\n",
      "Epoch 2 Loss 0.7204\n",
      "Time taken for 1 epoch 104.83162784576416 sec\n",
      "\n",
      "Epoch 3 Batch 0 Loss 0.3409\n",
      "Epoch 3 Batch 100 Loss 0.3338\n",
      "Epoch 3 Batch 200 Loss 0.4388\n",
      "Epoch 3 Batch 300 Loss 0.4354\n",
      "Epoch 3 Batch 400 Loss 0.4703\n",
      "Epoch 3 Batch 500 Loss 0.4550\n",
      "Epoch 3 Batch 600 Loss 0.4044\n",
      "Epoch 3 Batch 700 Loss 0.4704\n",
      "Epoch 3 Batch 800 Loss 0.3149\n",
      "Epoch 3 Batch 900 Loss 0.3416\n",
      "Epoch 3 Batch 1000 Loss 0.4053\n",
      "Epoch 3 Batch 1100 Loss 0.3195\n",
      "Epoch 3 Batch 1200 Loss 0.3584\n",
      "Epoch 3 Loss 0.3969\n",
      "Time taken for 1 epoch 104.71356844902039 sec\n",
      "\n",
      "Epoch 4 Batch 0 Loss 0.2693\n",
      "Epoch 4 Batch 100 Loss 0.1986\n",
      "Epoch 4 Batch 200 Loss 0.2455\n",
      "Epoch 4 Batch 300 Loss 0.1922\n",
      "Epoch 4 Batch 400 Loss 0.2624\n",
      "Epoch 4 Batch 500 Loss 0.2395\n",
      "Epoch 4 Batch 600 Loss 0.2378\n",
      "Epoch 4 Batch 700 Loss 0.2913\n",
      "Epoch 4 Batch 800 Loss 0.2737\n",
      "Epoch 4 Batch 900 Loss 0.2641\n",
      "Epoch 4 Batch 1000 Loss 0.2628\n",
      "Epoch 4 Batch 1100 Loss 0.2443\n",
      "Epoch 4 Batch 1200 Loss 0.2167\n",
      "Epoch 4 Loss 0.2394\n",
      "Time taken for 1 epoch 109.51977205276489 sec\n",
      "\n",
      "Epoch 5 Batch 0 Loss 0.1361\n",
      "Epoch 5 Batch 100 Loss 0.1181\n",
      "Epoch 5 Batch 200 Loss 0.1346\n",
      "Epoch 5 Batch 300 Loss 0.1575\n",
      "Epoch 5 Batch 400 Loss 0.1502\n",
      "Epoch 5 Batch 500 Loss 0.1779\n",
      "Epoch 5 Batch 600 Loss 0.1713\n",
      "Epoch 5 Batch 700 Loss 0.1235\n",
      "Epoch 5 Batch 800 Loss 0.1540\n",
      "Epoch 5 Batch 900 Loss 0.1818\n",
      "Epoch 5 Batch 1000 Loss 0.1890\n",
      "Epoch 5 Batch 1100 Loss 0.2100\n",
      "Epoch 5 Batch 1200 Loss 0.1978\n",
      "Epoch 5 Loss 0.1612\n",
      "Time taken for 1 epoch 106.37051725387573 sec\n",
      "\n",
      "Epoch 6 Batch 0 Loss 0.1007\n",
      "Epoch 6 Batch 100 Loss 0.1034\n",
      "Epoch 6 Batch 200 Loss 0.0934\n",
      "Epoch 6 Batch 300 Loss 0.1374\n",
      "Epoch 6 Batch 400 Loss 0.1362\n",
      "Epoch 6 Batch 500 Loss 0.0957\n",
      "Epoch 6 Batch 600 Loss 0.1343\n",
      "Epoch 6 Batch 700 Loss 0.1318\n",
      "Epoch 6 Batch 800 Loss 0.1067\n",
      "Epoch 6 Batch 900 Loss 0.1273\n",
      "Epoch 6 Batch 1000 Loss 0.1074\n",
      "Epoch 6 Batch 1100 Loss 0.1535\n",
      "Epoch 6 Batch 1200 Loss 0.1640\n",
      "Epoch 6 Loss 0.1219\n",
      "Time taken for 1 epoch 106.82506370544434 sec\n",
      "\n",
      "Epoch 7 Batch 0 Loss 0.0618\n",
      "Epoch 7 Batch 100 Loss 0.0841\n",
      "Epoch 7 Batch 200 Loss 0.0775\n",
      "Epoch 7 Batch 300 Loss 0.0613\n",
      "Epoch 7 Batch 400 Loss 0.0675\n",
      "Epoch 7 Batch 500 Loss 0.1075\n",
      "Epoch 7 Batch 600 Loss 0.1099\n",
      "Epoch 7 Batch 700 Loss 0.0969\n",
      "Epoch 7 Batch 800 Loss 0.1052\n",
      "Epoch 7 Batch 900 Loss 0.1423\n",
      "Epoch 7 Batch 1000 Loss 0.1218\n",
      "Epoch 7 Batch 1100 Loss 0.1402\n",
      "Epoch 7 Batch 1200 Loss 0.0944\n",
      "Epoch 7 Loss 0.1028\n",
      "Time taken for 1 epoch 106.37894582748413 sec\n",
      "\n",
      "Epoch 8 Batch 0 Loss 0.0651\n",
      "Epoch 8 Batch 100 Loss 0.0481\n",
      "Epoch 8 Batch 200 Loss 0.1222\n",
      "Epoch 8 Batch 300 Loss 0.0973\n",
      "Epoch 8 Batch 400 Loss 0.1151\n",
      "Epoch 8 Batch 500 Loss 0.0735\n",
      "Epoch 8 Batch 600 Loss 0.0844\n",
      "Epoch 8 Batch 700 Loss 0.1079\n",
      "Epoch 8 Batch 800 Loss 0.0946\n",
      "Epoch 8 Batch 900 Loss 0.1303\n",
      "Epoch 8 Batch 1000 Loss 0.0822\n",
      "Epoch 8 Batch 1100 Loss 0.1015\n",
      "Epoch 8 Batch 1200 Loss 0.0920\n",
      "Epoch 8 Loss 0.0918\n",
      "Time taken for 1 epoch 107.46349334716797 sec\n",
      "\n",
      "Epoch 9 Batch 0 Loss 0.0388\n",
      "Epoch 9 Batch 100 Loss 0.0755\n",
      "Epoch 9 Batch 200 Loss 0.0537\n",
      "Epoch 9 Batch 300 Loss 0.0773\n",
      "Epoch 9 Batch 400 Loss 0.0818\n",
      "Epoch 9 Batch 500 Loss 0.0916\n",
      "Epoch 9 Batch 600 Loss 0.0621\n",
      "Epoch 9 Batch 700 Loss 0.1041\n",
      "Epoch 9 Batch 800 Loss 0.1084\n",
      "Epoch 9 Batch 900 Loss 0.1248\n",
      "Epoch 9 Batch 1000 Loss 0.0694\n",
      "Epoch 9 Batch 1100 Loss 0.0783\n",
      "Epoch 9 Batch 1200 Loss 0.0853\n",
      "Epoch 9 Loss 0.0852\n",
      "Time taken for 1 epoch 106.41428899765015 sec\n",
      "\n",
      "Epoch 10 Batch 0 Loss 0.0915\n",
      "Epoch 10 Batch 100 Loss 0.0847\n",
      "Epoch 10 Batch 200 Loss 0.0520\n",
      "Epoch 10 Batch 300 Loss 0.0628\n",
      "Epoch 10 Batch 400 Loss 0.0681\n",
      "Epoch 10 Batch 500 Loss 0.0495\n",
      "Epoch 10 Batch 600 Loss 0.0887\n",
      "Epoch 10 Batch 700 Loss 0.0843\n",
      "Epoch 10 Batch 800 Loss 0.1064\n",
      "Epoch 10 Batch 900 Loss 0.0609\n",
      "Epoch 10 Batch 1000 Loss 0.0841\n",
      "Epoch 10 Batch 1100 Loss 0.1116\n",
      "Epoch 10 Batch 1200 Loss 0.1082\n",
      "Epoch 10 Loss 0.0798\n",
      "Time taken for 1 epoch 111.16156005859375 sec\n",
      "\n",
      "Epoch 11 Batch 0 Loss 0.0327\n",
      "Epoch 11 Batch 100 Loss 0.0445\n",
      "Epoch 11 Batch 200 Loss 0.0587\n",
      "Epoch 11 Batch 300 Loss 0.0804\n",
      "Epoch 11 Batch 400 Loss 0.0576\n",
      "Epoch 11 Batch 500 Loss 0.0798\n",
      "Epoch 11 Batch 600 Loss 0.1427\n",
      "Epoch 11 Batch 700 Loss 0.0896\n",
      "Epoch 11 Batch 800 Loss 0.1422\n",
      "Epoch 11 Batch 900 Loss 0.1007\n",
      "Epoch 11 Batch 1000 Loss 0.0595\n",
      "Epoch 11 Batch 1100 Loss 0.0703\n",
      "Epoch 11 Batch 1200 Loss 0.0789\n",
      "Epoch 11 Loss 0.0759\n",
      "Time taken for 1 epoch 108.28363966941833 sec\n",
      "\n",
      "Epoch 12 Batch 0 Loss 0.0742\n",
      "Epoch 12 Batch 100 Loss 0.0627\n",
      "Epoch 12 Batch 200 Loss 0.0507\n",
      "Epoch 12 Batch 300 Loss 0.0282\n",
      "Epoch 12 Batch 400 Loss 0.0474\n",
      "Epoch 12 Batch 500 Loss 0.0737\n",
      "Epoch 12 Batch 600 Loss 0.0863\n",
      "Epoch 12 Batch 700 Loss 0.0629\n",
      "Epoch 12 Batch 800 Loss 0.0684\n",
      "Epoch 12 Batch 900 Loss 0.0814\n",
      "Epoch 12 Batch 1000 Loss 0.1284\n",
      "Epoch 12 Batch 1100 Loss 0.1100\n",
      "Epoch 12 Batch 1200 Loss 0.1175\n",
      "Epoch 12 Loss 0.0737\n",
      "Time taken for 1 epoch 115.14005255699158 sec\n",
      "\n",
      "Epoch 13 Batch 0 Loss 0.0586\n",
      "Epoch 13 Batch 100 Loss 0.0450\n",
      "Epoch 13 Batch 200 Loss 0.0957\n",
      "Epoch 13 Batch 300 Loss 0.0539\n",
      "Epoch 13 Batch 400 Loss 0.0858\n",
      "Epoch 13 Batch 500 Loss 0.0715\n",
      "Epoch 13 Batch 600 Loss 0.0570\n",
      "Epoch 13 Batch 700 Loss 0.0796\n",
      "Epoch 13 Batch 800 Loss 0.1201\n",
      "Epoch 13 Batch 900 Loss 0.0645\n",
      "Epoch 13 Batch 1000 Loss 0.0749\n",
      "Epoch 13 Batch 1100 Loss 0.0963\n",
      "Epoch 13 Batch 1200 Loss 0.0570\n",
      "Epoch 13 Loss 0.0712\n",
      "Time taken for 1 epoch 108.50589656829834 sec\n",
      "\n",
      "Epoch 14 Batch 0 Loss 0.0334\n",
      "Epoch 14 Batch 100 Loss 0.0482\n",
      "Epoch 14 Batch 200 Loss 0.0787\n",
      "Epoch 14 Batch 300 Loss 0.0684\n",
      "Epoch 14 Batch 400 Loss 0.0871\n",
      "Epoch 14 Batch 500 Loss 0.0592\n",
      "Epoch 14 Batch 600 Loss 0.0383\n",
      "Epoch 14 Batch 700 Loss 0.1072\n",
      "Epoch 14 Batch 800 Loss 0.0713\n",
      "Epoch 14 Batch 900 Loss 0.0787\n",
      "Epoch 14 Batch 1000 Loss 0.1001\n",
      "Epoch 14 Batch 1100 Loss 0.0512\n",
      "Epoch 14 Batch 1200 Loss 0.1062\n",
      "Epoch 14 Loss 0.0693\n",
      "Time taken for 1 epoch 110.06063556671143 sec\n",
      "\n",
      "Epoch 15 Batch 0 Loss 0.0353\n",
      "Epoch 15 Batch 100 Loss 0.0966\n",
      "Epoch 15 Batch 200 Loss 0.0797\n",
      "Epoch 15 Batch 300 Loss 0.0593\n",
      "Epoch 15 Batch 400 Loss 0.0458\n",
      "Epoch 15 Batch 500 Loss 0.0512\n",
      "Epoch 15 Batch 600 Loss 0.0751\n",
      "Epoch 15 Batch 700 Loss 0.0471\n",
      "Epoch 15 Batch 800 Loss 0.0575\n",
      "Epoch 15 Batch 900 Loss 0.0733\n",
      "Epoch 15 Batch 1000 Loss 0.0882\n",
      "Epoch 15 Batch 1100 Loss 0.0751\n",
      "Epoch 15 Batch 1200 Loss 0.0902\n",
      "Epoch 15 Loss 0.0678\n",
      "Time taken for 1 epoch 111.1390151977539 sec\n",
      "\n",
      "Epoch 16 Batch 0 Loss 0.0725\n",
      "Epoch 16 Batch 100 Loss 0.0782\n",
      "Epoch 16 Batch 200 Loss 0.0695\n",
      "Epoch 16 Batch 300 Loss 0.0685\n",
      "Epoch 16 Batch 400 Loss 0.0550\n",
      "Epoch 16 Batch 500 Loss 0.0468\n",
      "Epoch 16 Batch 600 Loss 0.0575\n",
      "Epoch 16 Batch 700 Loss 0.0356\n",
      "Epoch 16 Batch 800 Loss 0.0674\n",
      "Epoch 16 Batch 900 Loss 0.0541\n",
      "Epoch 16 Batch 1000 Loss 0.0789\n",
      "Epoch 16 Batch 1100 Loss 0.0502\n",
      "Epoch 16 Batch 1200 Loss 0.0928\n",
      "Epoch 16 Loss 0.0653\n",
      "Time taken for 1 epoch 109.43988251686096 sec\n",
      "\n",
      "Epoch 17 Batch 0 Loss 0.0389\n",
      "Epoch 17 Batch 100 Loss 0.0640\n",
      "Epoch 17 Batch 200 Loss 0.0755\n",
      "Epoch 17 Batch 300 Loss 0.0524\n",
      "Epoch 17 Batch 400 Loss 0.0763\n",
      "Epoch 17 Batch 500 Loss 0.0583\n",
      "Epoch 17 Batch 600 Loss 0.0641\n",
      "Epoch 17 Batch 700 Loss 0.0364\n",
      "Epoch 17 Batch 800 Loss 0.0731\n",
      "Epoch 17 Batch 900 Loss 0.0590\n",
      "Epoch 17 Batch 1000 Loss 0.0697\n",
      "Epoch 17 Batch 1100 Loss 0.0897\n",
      "Epoch 17 Batch 1200 Loss 0.0817\n",
      "Epoch 17 Loss 0.0650\n",
      "Time taken for 1 epoch 108.26126861572266 sec\n",
      "\n",
      "Epoch 18 Batch 0 Loss 0.0592\n",
      "Epoch 18 Batch 100 Loss 0.0598\n",
      "Epoch 18 Batch 200 Loss 0.0620\n",
      "Epoch 18 Batch 300 Loss 0.0714\n",
      "Epoch 18 Batch 400 Loss 0.0650\n",
      "Epoch 18 Batch 500 Loss 0.0677\n",
      "Epoch 18 Batch 600 Loss 0.0359\n",
      "Epoch 18 Batch 700 Loss 0.0439\n",
      "Epoch 18 Batch 800 Loss 0.0417\n",
      "Epoch 18 Batch 900 Loss 0.0703\n"
     ]
    },
    {
     "name": "stdout",
     "output_type": "stream",
     "text": [
      "Epoch 18 Batch 1000 Loss 0.0710\n",
      "Epoch 18 Batch 1100 Loss 0.0422\n",
      "Epoch 18 Batch 1200 Loss 0.0528\n",
      "Epoch 18 Loss 0.0637\n",
      "Time taken for 1 epoch 111.85740256309509 sec\n",
      "\n",
      "Epoch 19 Batch 0 Loss 0.0528\n",
      "Epoch 19 Batch 100 Loss 0.0776\n",
      "Epoch 19 Batch 200 Loss 0.0401\n",
      "Epoch 19 Batch 300 Loss 0.0690\n",
      "Epoch 19 Batch 400 Loss 0.0435\n",
      "Epoch 19 Batch 500 Loss 0.0734\n",
      "Epoch 19 Batch 600 Loss 0.0886\n",
      "Epoch 19 Batch 700 Loss 0.0314\n",
      "Epoch 19 Batch 800 Loss 0.0789\n",
      "Epoch 19 Batch 900 Loss 0.1003\n",
      "Epoch 19 Batch 1000 Loss 0.0619\n",
      "Epoch 19 Batch 1100 Loss 0.1177\n",
      "Epoch 19 Batch 1200 Loss 0.0655\n",
      "Epoch 19 Loss 0.0624\n",
      "Time taken for 1 epoch 112.2727997303009 sec\n",
      "\n",
      "Epoch 20 Batch 0 Loss 0.0355\n",
      "Epoch 20 Batch 100 Loss 0.0584\n",
      "Epoch 20 Batch 200 Loss 0.0576\n",
      "Epoch 20 Batch 300 Loss 0.0608\n",
      "Epoch 20 Batch 400 Loss 0.0573\n",
      "Epoch 20 Batch 500 Loss 0.1236\n",
      "Epoch 20 Batch 600 Loss 0.0590\n",
      "Epoch 20 Batch 700 Loss 0.0729\n",
      "Epoch 20 Batch 800 Loss 0.0513\n",
      "Epoch 20 Batch 900 Loss 0.0418\n",
      "Epoch 20 Batch 1000 Loss 0.0658\n",
      "Epoch 20 Batch 1100 Loss 0.0501\n",
      "Epoch 20 Batch 1200 Loss 0.0760\n",
      "Epoch 20 Loss 0.0608\n",
      "Time taken for 1 epoch 113.2444396018982 sec\n",
      "\n",
      "Epoch 21 Batch 0 Loss 0.0457\n",
      "Epoch 21 Batch 100 Loss 0.0322\n",
      "Epoch 21 Batch 200 Loss 0.0650\n",
      "Epoch 21 Batch 300 Loss 0.0706\n",
      "Epoch 21 Batch 400 Loss 0.0413\n",
      "Epoch 21 Batch 500 Loss 0.0630\n",
      "Epoch 21 Batch 600 Loss 0.0966\n",
      "Epoch 21 Batch 700 Loss 0.0461\n",
      "Epoch 21 Batch 800 Loss 0.0752\n",
      "Epoch 21 Batch 900 Loss 0.0697\n",
      "Epoch 21 Batch 1000 Loss 0.0427\n",
      "Epoch 21 Batch 1100 Loss 0.0418\n",
      "Epoch 21 Batch 1200 Loss 0.0623\n",
      "Epoch 21 Loss 0.0603\n",
      "Time taken for 1 epoch 140.3093078136444 sec\n",
      "\n",
      "Epoch 22 Batch 0 Loss 0.0295\n",
      "Epoch 22 Batch 100 Loss 0.0477\n",
      "Epoch 22 Batch 200 Loss 0.0594\n",
      "Epoch 22 Batch 300 Loss 0.0628\n",
      "Epoch 22 Batch 400 Loss 0.0496\n",
      "Epoch 22 Batch 500 Loss 0.0772\n",
      "Epoch 22 Batch 600 Loss 0.0674\n",
      "Epoch 22 Batch 700 Loss 0.0505\n",
      "Epoch 22 Batch 800 Loss 0.0480\n",
      "Epoch 22 Batch 900 Loss 0.0647\n",
      "Epoch 22 Batch 1000 Loss 0.0685\n",
      "Epoch 22 Batch 1100 Loss 0.0995\n",
      "Epoch 22 Batch 1200 Loss 0.1098\n",
      "Epoch 22 Loss 0.0592\n",
      "Time taken for 1 epoch 148.53634786605835 sec\n",
      "\n",
      "Epoch 23 Batch 0 Loss 0.0425\n",
      "Epoch 23 Batch 100 Loss 0.0544\n",
      "Epoch 23 Batch 200 Loss 0.0682\n",
      "Epoch 23 Batch 300 Loss 0.0739\n",
      "Epoch 23 Batch 400 Loss 0.0520\n",
      "Epoch 23 Batch 500 Loss 0.0620\n",
      "Epoch 23 Batch 600 Loss 0.0750\n",
      "Epoch 23 Batch 700 Loss 0.0541\n",
      "Epoch 23 Batch 800 Loss 0.0674\n",
      "Epoch 23 Batch 900 Loss 0.0734\n",
      "Epoch 23 Batch 1000 Loss 0.0827\n",
      "Epoch 23 Batch 1100 Loss 0.0540\n",
      "Epoch 23 Batch 1200 Loss 0.0696\n",
      "Epoch 23 Loss 0.0583\n",
      "Time taken for 1 epoch 111.41201114654541 sec\n",
      "\n",
      "Epoch 24 Batch 0 Loss 0.0553\n",
      "Epoch 24 Batch 100 Loss 0.0571\n",
      "Epoch 24 Batch 200 Loss 0.0349\n",
      "Epoch 24 Batch 300 Loss 0.0357\n",
      "Epoch 24 Batch 400 Loss 0.0857\n",
      "Epoch 24 Batch 500 Loss 0.0492\n",
      "Epoch 24 Batch 600 Loss 0.0543\n",
      "Epoch 24 Batch 700 Loss 0.0437\n",
      "Epoch 24 Batch 800 Loss 0.0491\n",
      "Epoch 24 Batch 900 Loss 0.0644\n",
      "Epoch 24 Batch 1000 Loss 0.0587\n",
      "Epoch 24 Batch 1100 Loss 0.0674\n",
      "Epoch 24 Batch 1200 Loss 0.0453\n",
      "Epoch 24 Loss 0.0573\n",
      "Time taken for 1 epoch 120.73559212684631 sec\n",
      "\n",
      "Epoch 25 Batch 0 Loss 0.0294\n",
      "Epoch 25 Batch 100 Loss 0.0845\n",
      "Epoch 25 Batch 200 Loss 0.0322\n",
      "Epoch 25 Batch 300 Loss 0.0358\n",
      "Epoch 25 Batch 400 Loss 0.0428\n",
      "Epoch 25 Batch 500 Loss 0.0299\n",
      "Epoch 25 Batch 600 Loss 0.0414\n",
      "Epoch 25 Batch 700 Loss 0.0380\n",
      "Epoch 25 Batch 800 Loss 0.0736\n",
      "Epoch 25 Batch 900 Loss 0.0814\n",
      "Epoch 25 Batch 1000 Loss 0.0582\n",
      "Epoch 25 Batch 1100 Loss 0.0582\n",
      "Epoch 25 Batch 1200 Loss 0.0910\n",
      "Epoch 25 Loss 0.0563\n",
      "Time taken for 1 epoch 110.08977746963501 sec\n",
      "\n",
      "Epoch 26 Batch 0 Loss 0.0134\n",
      "Epoch 26 Batch 100 Loss 0.0522\n",
      "Epoch 26 Batch 200 Loss 0.0447\n",
      "Epoch 26 Batch 300 Loss 0.0485\n",
      "Epoch 26 Batch 400 Loss 0.0633\n",
      "Epoch 26 Batch 500 Loss 0.0273\n",
      "Epoch 26 Batch 600 Loss 0.0331\n",
      "Epoch 26 Batch 700 Loss 0.0816\n",
      "Epoch 26 Batch 800 Loss 0.0606\n",
      "Epoch 26 Batch 900 Loss 0.0699\n",
      "Epoch 26 Batch 1000 Loss 0.0712\n",
      "Epoch 26 Batch 1100 Loss 0.0381\n",
      "Epoch 26 Batch 1200 Loss 0.0869\n",
      "Epoch 26 Loss 0.0558\n",
      "Time taken for 1 epoch 112.02493596076965 sec\n",
      "\n",
      "Epoch 27 Batch 0 Loss 0.0768\n",
      "Epoch 27 Batch 100 Loss 0.0182\n",
      "Epoch 27 Batch 200 Loss 0.0604\n",
      "Epoch 27 Batch 300 Loss 0.0333\n",
      "Epoch 27 Batch 400 Loss 0.0680\n",
      "Epoch 27 Batch 500 Loss 0.0342\n",
      "Epoch 27 Batch 600 Loss 0.0588\n",
      "Epoch 27 Batch 700 Loss 0.0413\n",
      "Epoch 27 Batch 800 Loss 0.0359\n",
      "Epoch 27 Batch 900 Loss 0.0864\n",
      "Epoch 27 Batch 1000 Loss 0.0711\n",
      "Epoch 27 Batch 1100 Loss 0.0297\n",
      "Epoch 27 Batch 1200 Loss 0.0574\n",
      "Epoch 27 Loss 0.0549\n",
      "Time taken for 1 epoch 110.04317498207092 sec\n",
      "\n",
      "Epoch 28 Batch 0 Loss 0.0475\n",
      "Epoch 28 Batch 100 Loss 0.0230\n",
      "Epoch 28 Batch 200 Loss 0.0374\n",
      "Epoch 28 Batch 300 Loss 0.0461\n",
      "Epoch 28 Batch 400 Loss 0.0389\n",
      "Epoch 28 Batch 500 Loss 0.0188\n",
      "Epoch 28 Batch 600 Loss 0.0705\n",
      "Epoch 28 Batch 700 Loss 0.0476\n",
      "Epoch 28 Batch 800 Loss 0.0386\n",
      "Epoch 28 Batch 900 Loss 0.0530\n",
      "Epoch 28 Batch 1000 Loss 0.0656\n",
      "Epoch 28 Batch 1100 Loss 0.0639\n",
      "Epoch 28 Batch 1200 Loss 0.0592\n",
      "Epoch 28 Loss 0.0540\n",
      "Time taken for 1 epoch 111.11160778999329 sec\n",
      "\n",
      "Epoch 29 Batch 0 Loss 0.0444\n",
      "Epoch 29 Batch 100 Loss 0.0188\n",
      "Epoch 29 Batch 200 Loss 0.0182\n",
      "Epoch 29 Batch 300 Loss 0.0335\n",
      "Epoch 29 Batch 400 Loss 0.0661\n",
      "Epoch 29 Batch 500 Loss 0.0712\n",
      "Epoch 29 Batch 600 Loss 0.0781\n",
      "Epoch 29 Batch 700 Loss 0.0390\n",
      "Epoch 29 Batch 800 Loss 0.0373\n",
      "Epoch 29 Batch 900 Loss 0.0396\n",
      "Epoch 29 Batch 1000 Loss 0.0796\n",
      "Epoch 29 Batch 1100 Loss 0.0338\n",
      "Epoch 29 Batch 1200 Loss 0.0504\n",
      "Epoch 29 Loss 0.0532\n",
      "Time taken for 1 epoch 110.18500638008118 sec\n",
      "\n",
      "Epoch 30 Batch 0 Loss 0.0538\n",
      "Epoch 30 Batch 100 Loss 0.0460\n",
      "Epoch 30 Batch 200 Loss 0.0257\n",
      "Epoch 30 Batch 300 Loss 0.0481\n",
      "Epoch 30 Batch 400 Loss 0.0482\n",
      "Epoch 30 Batch 500 Loss 0.0518\n",
      "Epoch 30 Batch 600 Loss 0.0781\n",
      "Epoch 30 Batch 700 Loss 0.0805\n",
      "Epoch 30 Batch 800 Loss 0.0695\n",
      "Epoch 30 Batch 900 Loss 0.0234\n",
      "Epoch 30 Batch 1000 Loss 0.0526\n",
      "Epoch 30 Batch 1100 Loss 0.1002\n",
      "Epoch 30 Batch 1200 Loss 0.0276\n",
      "Epoch 30 Loss 0.0526\n",
      "Time taken for 1 epoch 111.25905442237854 sec\n",
      "\n",
      "Epoch 31 Batch 0 Loss 0.0308\n",
      "Epoch 31 Batch 100 Loss 0.0796\n",
      "Epoch 31 Batch 200 Loss 0.0398\n",
      "Epoch 31 Batch 300 Loss 0.0418\n",
      "Epoch 31 Batch 400 Loss 0.0223\n",
      "Epoch 31 Batch 500 Loss 0.0624\n",
      "Epoch 31 Batch 600 Loss 0.0282\n",
      "Epoch 31 Batch 700 Loss 0.0505\n",
      "Epoch 31 Batch 800 Loss 0.0824\n",
      "Epoch 31 Batch 900 Loss 0.0873\n",
      "Epoch 31 Batch 1000 Loss 0.0372\n",
      "Epoch 31 Batch 1100 Loss 0.0606\n",
      "Epoch 31 Batch 1200 Loss 0.0701\n",
      "Epoch 31 Loss 0.0523\n",
      "Time taken for 1 epoch 110.46535348892212 sec\n",
      "\n",
      "Epoch 32 Batch 0 Loss 0.0345\n",
      "Epoch 32 Batch 100 Loss 0.0252\n",
      "Epoch 32 Batch 200 Loss 0.0395\n",
      "Epoch 32 Batch 300 Loss 0.0620\n",
      "Epoch 32 Batch 400 Loss 0.0667\n",
      "Epoch 32 Batch 500 Loss 0.0285\n",
      "Epoch 32 Batch 600 Loss 0.0596\n",
      "Epoch 32 Batch 700 Loss 0.0592\n",
      "Epoch 32 Batch 800 Loss 0.0429\n",
      "Epoch 32 Batch 900 Loss 0.0335\n",
      "Epoch 32 Batch 1000 Loss 0.0453\n",
      "Epoch 32 Batch 1100 Loss 0.0886\n",
      "Epoch 32 Batch 1200 Loss 0.0793\n",
      "Epoch 32 Loss 0.0516\n",
      "Time taken for 1 epoch 110.8647072315216 sec\n",
      "\n",
      "Epoch 33 Batch 0 Loss 0.0516\n",
      "Epoch 33 Batch 100 Loss 0.0261\n",
      "Epoch 33 Batch 200 Loss 0.0619\n",
      "Epoch 33 Batch 300 Loss 0.0521\n",
      "Epoch 33 Batch 400 Loss 0.0728\n",
      "Epoch 33 Batch 500 Loss 0.0369\n",
      "Epoch 33 Batch 600 Loss 0.0624\n",
      "Epoch 33 Batch 700 Loss 0.0539\n",
      "Epoch 33 Batch 800 Loss 0.0488\n",
      "Epoch 33 Batch 900 Loss 0.1070\n",
      "Epoch 33 Batch 1000 Loss 0.0276\n",
      "Epoch 33 Batch 1100 Loss 0.0787\n",
      "Epoch 33 Batch 1200 Loss 0.0828\n",
      "Epoch 33 Loss 0.0508\n",
      "Time taken for 1 epoch 110.44558334350586 sec\n",
      "\n",
      "Epoch 34 Batch 0 Loss 0.0421\n",
      "Epoch 34 Batch 100 Loss 0.0354\n",
      "Epoch 34 Batch 200 Loss 0.0425\n",
      "Epoch 34 Batch 300 Loss 0.0399\n",
      "Epoch 34 Batch 400 Loss 0.0264\n",
      "Epoch 34 Batch 500 Loss 0.0636\n",
      "Epoch 34 Batch 600 Loss 0.0439\n",
      "Epoch 34 Batch 700 Loss 0.0579\n",
      "Epoch 34 Batch 800 Loss 0.0505\n",
      "Epoch 34 Batch 900 Loss 0.0397\n",
      "Epoch 34 Batch 1000 Loss 0.0397\n",
      "Epoch 34 Batch 1100 Loss 0.0459\n",
      "Epoch 34 Batch 1200 Loss 0.0586\n",
      "Epoch 34 Loss 0.0503\n",
      "Time taken for 1 epoch 111.26850390434265 sec\n",
      "\n",
      "Epoch 35 Batch 0 Loss 0.0139\n",
      "Epoch 35 Batch 100 Loss 0.0412\n",
      "Epoch 35 Batch 200 Loss 0.0161\n",
      "Epoch 35 Batch 300 Loss 0.0337\n",
      "Epoch 35 Batch 400 Loss 0.0264\n",
      "Epoch 35 Batch 500 Loss 0.0639\n",
      "Epoch 35 Batch 600 Loss 0.0567\n",
      "Epoch 35 Batch 700 Loss 0.0524\n",
      "Epoch 35 Batch 800 Loss 0.0467\n",
      "Epoch 35 Batch 900 Loss 0.0699\n",
      "Epoch 35 Batch 1000 Loss 0.0559\n",
      "Epoch 35 Batch 1100 Loss 0.0380\n",
      "Epoch 35 Batch 1200 Loss 0.0336\n",
      "Epoch 35 Loss 0.0498\n",
      "Time taken for 1 epoch 110.19167137145996 sec\n",
      "\n",
      "Epoch 36 Batch 0 Loss 0.0297\n"
     ]
    },
    {
     "name": "stdout",
     "output_type": "stream",
     "text": [
      "Epoch 36 Batch 100 Loss 0.0425\n",
      "Epoch 36 Batch 200 Loss 0.0441\n",
      "Epoch 36 Batch 300 Loss 0.0790\n",
      "Epoch 36 Batch 400 Loss 0.0299\n",
      "Epoch 36 Batch 500 Loss 0.0670\n",
      "Epoch 36 Batch 600 Loss 0.0795\n",
      "Epoch 36 Batch 700 Loss 0.0350\n",
      "Epoch 36 Batch 800 Loss 0.0399\n",
      "Epoch 36 Batch 900 Loss 0.0484\n",
      "Epoch 36 Batch 1000 Loss 0.0675\n",
      "Epoch 36 Batch 1100 Loss 0.0578\n",
      "Epoch 36 Batch 1200 Loss 0.0434\n",
      "Epoch 36 Loss 0.0492\n",
      "Time taken for 1 epoch 111.39383220672607 sec\n",
      "\n",
      "Epoch 37 Batch 0 Loss 0.0437\n",
      "Epoch 37 Batch 100 Loss 0.0550\n",
      "Epoch 37 Batch 200 Loss 0.0777\n",
      "Epoch 37 Batch 300 Loss 0.0443\n",
      "Epoch 37 Batch 400 Loss 0.0596\n",
      "Epoch 37 Batch 500 Loss 0.0478\n",
      "Epoch 37 Batch 600 Loss 0.0529\n",
      "Epoch 37 Batch 700 Loss 0.0524\n",
      "Epoch 37 Batch 800 Loss 0.0466\n",
      "Epoch 37 Batch 900 Loss 0.0242\n",
      "Epoch 37 Batch 1000 Loss 0.0377\n",
      "Epoch 37 Batch 1100 Loss 0.0501\n",
      "Epoch 37 Batch 1200 Loss 0.0588\n",
      "Epoch 37 Loss 0.0492\n",
      "Time taken for 1 epoch 109.4167411327362 sec\n",
      "\n",
      "Epoch 38 Batch 0 Loss 0.0350\n",
      "Epoch 38 Batch 100 Loss 0.0450\n",
      "Epoch 38 Batch 200 Loss 0.0302\n",
      "Epoch 38 Batch 300 Loss 0.0398\n",
      "Epoch 38 Batch 400 Loss 0.0278\n",
      "Epoch 38 Batch 500 Loss 0.0274\n",
      "Epoch 38 Batch 600 Loss 0.0427\n",
      "Epoch 38 Batch 700 Loss 0.0632\n",
      "Epoch 38 Batch 800 Loss 0.0711\n",
      "Epoch 38 Batch 900 Loss 0.0387\n",
      "Epoch 38 Batch 1000 Loss 0.0322\n",
      "Epoch 38 Batch 1100 Loss 0.0752\n",
      "Epoch 38 Batch 1200 Loss 0.0560\n",
      "Epoch 38 Loss 0.0485\n",
      "Time taken for 1 epoch 105.07392311096191 sec\n",
      "\n",
      "Epoch 39 Batch 0 Loss 0.0154\n",
      "Epoch 39 Batch 100 Loss 0.0259\n",
      "Epoch 39 Batch 200 Loss 0.0532\n",
      "Epoch 39 Batch 300 Loss 0.0504\n",
      "Epoch 39 Batch 400 Loss 0.0445\n",
      "Epoch 39 Batch 500 Loss 0.0244\n",
      "Epoch 39 Batch 600 Loss 0.0545\n",
      "Epoch 39 Batch 700 Loss 0.0629\n",
      "Epoch 39 Batch 800 Loss 0.0658\n",
      "Epoch 39 Batch 900 Loss 0.0470\n",
      "Epoch 39 Batch 1000 Loss 0.0568\n",
      "Epoch 39 Batch 1100 Loss 0.0355\n",
      "Epoch 39 Batch 1200 Loss 0.0334\n",
      "Epoch 39 Loss 0.0477\n",
      "Time taken for 1 epoch 104.0046968460083 sec\n",
      "\n",
      "Epoch 40 Batch 0 Loss 0.0303\n",
      "Epoch 40 Batch 100 Loss 0.0263\n",
      "Epoch 40 Batch 200 Loss 0.0645\n",
      "Epoch 40 Batch 300 Loss 0.0743\n",
      "Epoch 40 Batch 400 Loss 0.0619\n",
      "Epoch 40 Batch 500 Loss 0.0272\n",
      "Epoch 40 Batch 600 Loss 0.0404\n",
      "Epoch 40 Batch 700 Loss 0.0334\n",
      "Epoch 40 Batch 800 Loss 0.0248\n",
      "Epoch 40 Batch 900 Loss 0.0546\n",
      "Epoch 40 Batch 1000 Loss 0.0444\n",
      "Epoch 40 Batch 1100 Loss 0.0472\n",
      "Epoch 40 Batch 1200 Loss 0.0430\n",
      "Epoch 40 Loss 0.0478\n",
      "Time taken for 1 epoch 103.7081527709961 sec\n",
      "\n",
      "Epoch 41 Batch 0 Loss 0.0148\n",
      "Epoch 41 Batch 100 Loss 0.0529\n",
      "Epoch 41 Batch 200 Loss 0.0333\n",
      "Epoch 41 Batch 300 Loss 0.0328\n",
      "Epoch 41 Batch 400 Loss 0.0508\n",
      "Epoch 41 Batch 500 Loss 0.0536\n",
      "Epoch 41 Batch 600 Loss 0.0548\n",
      "Epoch 41 Batch 700 Loss 0.0493\n",
      "Epoch 41 Batch 800 Loss 0.0570\n",
      "Epoch 41 Batch 900 Loss 0.0615\n",
      "Epoch 41 Batch 1000 Loss 0.0510\n",
      "Epoch 41 Batch 1100 Loss 0.0528\n",
      "Epoch 41 Batch 1200 Loss 0.0536\n",
      "Epoch 41 Loss 0.0477\n",
      "Time taken for 1 epoch 103.00945162773132 sec\n",
      "\n",
      "Epoch 42 Batch 0 Loss 0.0620\n",
      "Epoch 42 Batch 100 Loss 0.0425\n",
      "Epoch 42 Batch 200 Loss 0.0302\n",
      "Epoch 42 Batch 300 Loss 0.0201\n",
      "Epoch 42 Batch 400 Loss 0.0477\n",
      "Epoch 42 Batch 500 Loss 0.0209\n",
      "Epoch 42 Batch 600 Loss 0.0812\n",
      "Epoch 42 Batch 700 Loss 0.0551\n",
      "Epoch 42 Batch 800 Loss 0.0637\n",
      "Epoch 42 Batch 900 Loss 0.0557\n",
      "Epoch 42 Batch 1000 Loss 0.0685\n",
      "Epoch 42 Batch 1100 Loss 0.0681\n",
      "Epoch 42 Batch 1200 Loss 0.0906\n",
      "Epoch 42 Loss 0.0467\n",
      "Time taken for 1 epoch 103.98628759384155 sec\n",
      "\n",
      "Epoch 43 Batch 0 Loss 0.0468\n",
      "Epoch 43 Batch 100 Loss 0.0316\n",
      "Epoch 43 Batch 200 Loss 0.0463\n",
      "Epoch 43 Batch 300 Loss 0.0152\n",
      "Epoch 43 Batch 400 Loss 0.0326\n",
      "Epoch 43 Batch 500 Loss 0.0248\n",
      "Epoch 43 Batch 600 Loss 0.0461\n",
      "Epoch 43 Batch 700 Loss 0.0584\n",
      "Epoch 43 Batch 800 Loss 0.0575\n",
      "Epoch 43 Batch 900 Loss 0.0478\n",
      "Epoch 43 Batch 1000 Loss 0.0511\n",
      "Epoch 43 Batch 1100 Loss 0.0385\n",
      "Epoch 43 Batch 1200 Loss 0.0694\n",
      "Epoch 43 Loss 0.0465\n",
      "Time taken for 1 epoch 102.72311115264893 sec\n",
      "\n",
      "Epoch 44 Batch 0 Loss 0.0491\n",
      "Epoch 44 Batch 100 Loss 0.0464\n",
      "Epoch 44 Batch 200 Loss 0.0421\n",
      "Epoch 44 Batch 300 Loss 0.0308\n",
      "Epoch 44 Batch 400 Loss 0.0615\n",
      "Epoch 44 Batch 500 Loss 0.0517\n",
      "Epoch 44 Batch 600 Loss 0.0373\n",
      "Epoch 44 Batch 700 Loss 0.0508\n",
      "Epoch 44 Batch 800 Loss 0.0507\n",
      "Epoch 44 Batch 900 Loss 0.0368\n",
      "Epoch 44 Batch 1000 Loss 0.0469\n",
      "Epoch 44 Batch 1100 Loss 0.0680\n",
      "Epoch 44 Batch 1200 Loss 0.0418\n",
      "Epoch 44 Loss 0.0460\n",
      "Time taken for 1 epoch 104.11734247207642 sec\n",
      "\n",
      "Epoch 45 Batch 0 Loss 0.0568\n",
      "Epoch 45 Batch 100 Loss 0.0205\n",
      "Epoch 45 Batch 200 Loss 0.0415\n",
      "Epoch 45 Batch 300 Loss 0.0405\n",
      "Epoch 45 Batch 400 Loss 0.0511\n",
      "Epoch 45 Batch 500 Loss 0.0323\n",
      "Epoch 45 Batch 600 Loss 0.0392\n",
      "Epoch 45 Batch 700 Loss 0.0632\n",
      "Epoch 45 Batch 800 Loss 0.0473\n",
      "Epoch 45 Batch 900 Loss 0.0520\n",
      "Epoch 45 Batch 1000 Loss 0.0585\n",
      "Epoch 45 Batch 1100 Loss 0.0346\n",
      "Epoch 45 Batch 1200 Loss 0.0749\n",
      "Epoch 45 Loss 0.0461\n",
      "Time taken for 1 epoch 102.89784955978394 sec\n",
      "\n",
      "Epoch 46 Batch 0 Loss 0.0339\n",
      "Epoch 46 Batch 100 Loss 0.0248\n",
      "Epoch 46 Batch 200 Loss 0.0385\n",
      "Epoch 46 Batch 300 Loss 0.0247\n",
      "Epoch 46 Batch 400 Loss 0.0355\n",
      "Epoch 46 Batch 500 Loss 0.0319\n",
      "Epoch 46 Batch 600 Loss 0.0527\n",
      "Epoch 46 Batch 700 Loss 0.0390\n",
      "Epoch 46 Batch 800 Loss 0.0688\n",
      "Epoch 46 Batch 900 Loss 0.0597\n",
      "Epoch 46 Batch 1000 Loss 0.0692\n",
      "Epoch 46 Batch 1100 Loss 0.0490\n",
      "Epoch 46 Batch 1200 Loss 0.0577\n",
      "Epoch 46 Loss 0.0456\n",
      "Time taken for 1 epoch 106.17084527015686 sec\n",
      "\n",
      "Epoch 47 Batch 0 Loss 0.0266\n",
      "Epoch 47 Batch 100 Loss 0.0262\n",
      "Epoch 47 Batch 200 Loss 0.0365\n",
      "Epoch 47 Batch 300 Loss 0.0478\n",
      "Epoch 47 Batch 400 Loss 0.0410\n",
      "Epoch 47 Batch 500 Loss 0.0173\n",
      "Epoch 47 Batch 600 Loss 0.0313\n",
      "Epoch 47 Batch 700 Loss 0.0374\n",
      "Epoch 47 Batch 800 Loss 0.0761\n",
      "Epoch 47 Batch 900 Loss 0.0160\n",
      "Epoch 47 Batch 1000 Loss 0.0557\n",
      "Epoch 47 Batch 1100 Loss 0.0550\n",
      "Epoch 47 Batch 1200 Loss 0.0484\n",
      "Epoch 47 Loss 0.0451\n",
      "Time taken for 1 epoch 105.47382307052612 sec\n",
      "\n",
      "Epoch 48 Batch 0 Loss 0.0364\n",
      "Epoch 48 Batch 100 Loss 0.0360\n",
      "Epoch 48 Batch 200 Loss 0.0317\n",
      "Epoch 48 Batch 300 Loss 0.0709\n",
      "Epoch 48 Batch 400 Loss 0.0451\n",
      "Epoch 48 Batch 500 Loss 0.0128\n",
      "Epoch 48 Batch 600 Loss 0.0302\n",
      "Epoch 48 Batch 700 Loss 0.0320\n",
      "Epoch 48 Batch 800 Loss 0.0607\n",
      "Epoch 48 Batch 900 Loss 0.0150\n",
      "Epoch 48 Batch 1000 Loss 0.0454\n",
      "Epoch 48 Batch 1100 Loss 0.0426\n",
      "Epoch 48 Batch 1200 Loss 0.0556\n",
      "Epoch 48 Loss 0.0451\n",
      "Time taken for 1 epoch 107.80125164985657 sec\n",
      "\n",
      "Epoch 49 Batch 0 Loss 0.0315\n",
      "Epoch 49 Batch 100 Loss 0.0384\n",
      "Epoch 49 Batch 200 Loss 0.0392\n",
      "Epoch 49 Batch 300 Loss 0.0291\n",
      "Epoch 49 Batch 400 Loss 0.0333\n",
      "Epoch 49 Batch 500 Loss 0.0735\n",
      "Epoch 49 Batch 600 Loss 0.0318\n",
      "Epoch 49 Batch 700 Loss 0.0523\n",
      "Epoch 49 Batch 800 Loss 0.0392\n",
      "Epoch 49 Batch 900 Loss 0.0628\n",
      "Epoch 49 Batch 1000 Loss 0.0349\n",
      "Epoch 49 Batch 1100 Loss 0.0587\n",
      "Epoch 49 Batch 1200 Loss 0.0561\n",
      "Epoch 49 Loss 0.0443\n",
      "Time taken for 1 epoch 107.00464987754822 sec\n",
      "\n",
      "Epoch 50 Batch 0 Loss 0.0562\n",
      "Epoch 50 Batch 100 Loss 0.0262\n",
      "Epoch 50 Batch 200 Loss 0.0418\n",
      "Epoch 50 Batch 300 Loss 0.0494\n",
      "Epoch 50 Batch 400 Loss 0.0479\n",
      "Epoch 50 Batch 500 Loss 0.0692\n",
      "Epoch 50 Batch 600 Loss 0.0364\n",
      "Epoch 50 Batch 700 Loss 0.0331\n",
      "Epoch 50 Batch 800 Loss 0.0487\n",
      "Epoch 50 Batch 900 Loss 0.0521\n",
      "Epoch 50 Batch 1000 Loss 0.0865\n",
      "Epoch 50 Batch 1100 Loss 0.0652\n",
      "Epoch 50 Batch 1200 Loss 0.0788\n",
      "Epoch 50 Loss 0.0441\n",
      "Time taken for 1 epoch 108.28950428962708 sec\n",
      "\n"
     ]
    }
   ],
   "source": [
    "EPOCHS = 50\n",
    "\n",
    "for epoch in range(EPOCHS):\n",
    "  start = time.time()\n",
    "\n",
    "  enc_hidden = encoder.initialize_hidden_state()\n",
    "  total_loss = 0\n",
    "\n",
    "  for (batch, (inp, targ)) in enumerate(dataset.take(steps_per_epoch)):\n",
    "    batch_loss = train_step(inp, targ, enc_hidden)\n",
    "    total_loss += batch_loss\n",
    "\n",
    "    if batch % 100 == 0:\n",
    "      print('Epoch {} Batch {} Loss {:.4f}'.format(epoch + 1,\n",
    "                                                   batch,\n",
    "                                                   batch_loss.numpy()))\n",
    "  # saving (checkpoint) the model every 2 epochs\n",
    "  if (epoch + 1) % 2 == 0:\n",
    "    checkpoint.save(file_prefix = checkpoint_prefix)\n",
    "\n",
    "  print('Epoch {} Loss {:.4f}'.format(epoch + 1,\n",
    "                                      total_loss / steps_per_epoch))\n",
    "  print('Time taken for 1 epoch {} sec\\n'.format(time.time() - start))"
   ]
  },
  {
   "cell_type": "markdown",
   "metadata": {
    "id": "mU3Ce8M6I3rz"
   },
   "source": [
    "## Translate\n",
    "\n",
    "* The evaluate function is similar to the training loop, except we don't use *teacher forcing* here. The input to the decoder at each time step is its previous predictions along with the hidden state and the encoder output.\n",
    "* Stop predicting when the model predicts the *end token*.\n",
    "* And store the *attention weights for every time step*.\n",
    "\n",
    "Note: The encoder output is calculated only once for one input."
   ]
  },
  {
   "cell_type": "code",
   "execution_count": 33,
   "metadata": {
    "id": "EbQpyYs13jF_"
   },
   "outputs": [],
   "source": [
    "def evaluate(sentence):\n",
    "  attention_plot = np.zeros((max_length_targ, max_length_inp))\n",
    "\n",
    "  sentence = preprocess_sentence(sentence)\n",
    "\n",
    "  inputs = [inp_lang.word_index[i] for i in sentence.split(' ')]\n",
    "  inputs = tf.keras.preprocessing.sequence.pad_sequences([inputs],\n",
    "                                                         maxlen=max_length_inp,\n",
    "                                                         padding='post')\n",
    "  inputs = tf.convert_to_tensor(inputs)\n",
    "\n",
    "  result = ''\n",
    "\n",
    "  hidden = [tf.zeros((1, units))]\n",
    "  enc_hidden = encoder(inputs, hidden)\n",
    "\n",
    "  dec_hidden = enc_hidden\n",
    "  dec_input = tf.expand_dims([targ_lang.word_index['<start>']], 0)\n",
    "\n",
    "  for t in range(max_length_targ):\n",
    "    predictions, dec_hidden = decoder(dec_input, dec_hidden)\n",
    "\n",
    "    # storing the attention weights to plot later on\n",
    "    predicted_id = tf.argmax(predictions[0]).numpy()\n",
    "    result += targ_lang.index_word[predicted_id] + ' '\n",
    "\n",
    "    if targ_lang.index_word[predicted_id] == '<end>':\n",
    "      return result, sentence\n",
    "\n",
    "    # the predicted ID is fed back into the model\n",
    "    dec_input = tf.expand_dims([predicted_id], 0)\n",
    "\n",
    "  return result, sentence"
   ]
  },
  {
   "cell_type": "code",
   "execution_count": 34,
   "metadata": {
    "id": "sl9zUHzg3jGI"
   },
   "outputs": [],
   "source": [
    "def translate(sentence):\n",
    "  result, sentence = evaluate(sentence)\n",
    "\n",
    "  print('Input: %s' % (sentence))\n",
    "  print('Predicted translation: {}'.format(result))"
   ]
  },
  {
   "cell_type": "markdown",
   "metadata": {},
   "source": [
    "## 1. With attention"
   ]
  },
  {
   "cell_type": "code",
   "execution_count": 19,
   "metadata": {},
   "outputs": [],
   "source": [
    "class Encoder(tf.keras.Model):\n",
    "  def __init__(self, vocab_size, embedding_dim, enc_units, batch_sz):\n",
    "    super(Encoder, self).__init__()\n",
    "    self.batch_sz = batch_sz\n",
    "    self.enc_units = enc_units\n",
    "    self.embedding = tf.keras.layers.Embedding(vocab_size, embedding_dim)\n",
    "    self.gru = tf.keras.layers.GRU(self.enc_units,\n",
    "                                   return_sequences=True,\n",
    "                                   return_state=True,\n",
    "                                   recurrent_initializer='glorot_uniform')\n",
    "\n",
    "  def call(self, x, hidden):\n",
    "    x = self.embedding(x)\n",
    "    output, state = self.gru(x, initial_state = hidden)\n",
    "    return output, state\n",
    "\n",
    "  def initialize_hidden_state(self):\n",
    "    return tf.zeros((self.batch_sz, self.enc_units))"
   ]
  },
  {
   "cell_type": "code",
   "execution_count": 20,
   "metadata": {},
   "outputs": [],
   "source": [
    "encoder = Encoder(vocab_inp_size, embedding_dim, units, BATCH_SIZE)\n",
    "\n",
    "# sample input\n",
    "sample_hidden = encoder.initialize_hidden_state()\n",
    "sample_output, sample_hidden = encoder(example_input_batch, sample_hidden)"
   ]
  },
  {
   "cell_type": "code",
   "execution_count": 21,
   "metadata": {},
   "outputs": [],
   "source": [
    "class BahdanauAttention(tf.keras.layers.Layer):\n",
    "  def __init__(self, units):\n",
    "    super(BahdanauAttention, self).__init__()\n",
    "    self.W1 = tf.keras.layers.Dense(units)\n",
    "    self.W2 = tf.keras.layers.Dense(units)\n",
    "    self.V = tf.keras.layers.Dense(1)\n",
    "\n",
    "  def call(self, query, values):\n",
    "    # query hidden state shape == (batch_size, hidden size)\n",
    "    # query_with_time_axis shape == (batch_size, 1, hidden size)\n",
    "    # values shape == (batch_size, max_len, hidden size)\n",
    "    # we are doing this to broadcast addition along the time axis to calculate the score\n",
    "    query_with_time_axis = tf.expand_dims(query, 1)\n",
    "\n",
    "    # score shape == (batch_size, max_length, 1)\n",
    "    # we get 1 at the last axis because we are applying score to self.V\n",
    "    # the shape of the tensor before applying self.V is (batch_size, max_length, units)\n",
    "    score = self.V(tf.nn.tanh(\n",
    "        self.W1(query_with_time_axis) + self.W2(values)))\n",
    "\n",
    "    # attention_weights shape == (batch_size, max_length, 1)\n",
    "    attention_weights = tf.nn.softmax(score, axis=1)\n",
    "\n",
    "    # context_vector shape after sum == (batch_size, hidden_size)\n",
    "    context_vector = attention_weights * values\n",
    "    context_vector = tf.reduce_sum(context_vector, axis=1)\n",
    "\n",
    "    return context_vector, attention_weights"
   ]
  },
  {
   "cell_type": "code",
   "execution_count": 22,
   "metadata": {},
   "outputs": [],
   "source": [
    "attention_layer = BahdanauAttention(10)\n",
    "attention_result, attention_weights = attention_layer(sample_hidden, sample_output)"
   ]
  },
  {
   "cell_type": "code",
   "execution_count": 23,
   "metadata": {},
   "outputs": [],
   "source": [
    "class Decoder(tf.keras.Model):\n",
    "  def __init__(self, vocab_size, embedding_dim, dec_units, batch_sz):\n",
    "    super(Decoder, self).__init__()\n",
    "    self.batch_sz = batch_sz\n",
    "    self.dec_units = dec_units\n",
    "    self.embedding = tf.keras.layers.Embedding(vocab_size, embedding_dim)\n",
    "    self.gru = tf.keras.layers.GRU(self.dec_units,\n",
    "                                   return_sequences=True,\n",
    "                                   return_state=True,\n",
    "                                   recurrent_initializer='glorot_uniform')\n",
    "    self.fc = tf.keras.layers.Dense(vocab_size)\n",
    "\n",
    "    # used for attention\n",
    "    self.attention = BahdanauAttention(self.dec_units)\n",
    "\n",
    "  def call(self, x, hidden, enc_output):\n",
    "    # enc_output shape == (batch_size, max_length, hidden_size)\n",
    "    context_vector, attention_weights = self.attention(hidden, enc_output)\n",
    "\n",
    "    # x shape after passing through embedding == (batch_size, 1, embedding_dim)\n",
    "    x = self.embedding(x)\n",
    "\n",
    "    # x shape after concatenation == (batch_size, 1, embedding_dim + hidden_size)\n",
    "    x = tf.concat([tf.expand_dims(context_vector, 1), x], axis=-1)\n",
    "\n",
    "    # passing the concatenated vector to the GRU\n",
    "    output, state = self.gru(x)\n",
    "\n",
    "    # output shape == (batch_size * 1, hidden_size)\n",
    "    output = tf.reshape(output, (-1, output.shape[2]))\n",
    "\n",
    "    # output shape == (batch_size, vocab)\n",
    "    x = self.fc(output)\n",
    "\n",
    "    return x, state, attention_weights"
   ]
  },
  {
   "cell_type": "code",
   "execution_count": 24,
   "metadata": {},
   "outputs": [],
   "source": [
    "decoder = Decoder(vocab_tar_size, embedding_dim, units, BATCH_SIZE)\n",
    "\n",
    "sample_decoder_output, _, _ = decoder(tf.random.uniform((BATCH_SIZE, 1)),\n",
    "                                      sample_hidden, sample_output)"
   ]
  },
  {
   "cell_type": "code",
   "execution_count": 25,
   "metadata": {},
   "outputs": [],
   "source": [
    "optimizer = tf.keras.optimizers.Adam()\n",
    "loss_object = tf.keras.losses.SparseCategoricalCrossentropy(\n",
    "    from_logits=True, reduction='none')\n",
    "\n",
    "def loss_function(real, pred):\n",
    "  mask = tf.math.logical_not(tf.math.equal(real, 0))\n",
    "  loss_ = loss_object(real, pred)\n",
    "\n",
    "  mask = tf.cast(mask, dtype=loss_.dtype)\n",
    "  loss_ *= mask\n",
    "\n",
    "  return tf.reduce_mean(loss_)"
   ]
  },
  {
   "cell_type": "code",
   "execution_count": 26,
   "metadata": {},
   "outputs": [],
   "source": [
    "checkpoint_dir = './training_checkpoints/with_attention'\n",
    "checkpoint_prefix = os.path.join(checkpoint_dir, \"ckpt\")\n",
    "checkpoint = tf.train.Checkpoint(optimizer=optimizer,\n",
    "                                 encoder=encoder,\n",
    "                                 decoder=decoder)"
   ]
  },
  {
   "cell_type": "code",
   "execution_count": 27,
   "metadata": {},
   "outputs": [],
   "source": [
    "@tf.function\n",
    "def train_step(inp, targ, enc_hidden):\n",
    "  loss = 0\n",
    "\n",
    "  with tf.GradientTape() as tape:\n",
    "    enc_output, enc_hidden = encoder(inp, enc_hidden)\n",
    "\n",
    "    dec_hidden = enc_hidden\n",
    "\n",
    "    dec_input = tf.expand_dims([targ_lang.word_index['<start>']] * BATCH_SIZE, 1)\n",
    "\n",
    "    # Teacher forcing - feeding the target as the next input\n",
    "    for t in range(1, targ.shape[1]):\n",
    "      # passing enc_output to the decoder\n",
    "      predictions, dec_hidden, _ = decoder(dec_input, dec_hidden, enc_output)\n",
    "\n",
    "      loss += loss_function(targ[:, t], predictions)\n",
    "\n",
    "      # using teacher forcing\n",
    "      dec_input = tf.expand_dims(targ[:, t], 1)\n",
    "\n",
    "  batch_loss = (loss / int(targ.shape[1]))\n",
    "\n",
    "  variables = encoder.trainable_variables + decoder.trainable_variables\n",
    "\n",
    "  gradients = tape.gradient(loss, variables)\n",
    "\n",
    "  optimizer.apply_gradients(zip(gradients, variables))\n",
    "\n",
    "  return batch_loss"
   ]
  },
  {
   "cell_type": "code",
   "execution_count": 28,
   "metadata": {},
   "outputs": [
    {
     "name": "stdout",
     "output_type": "stream",
     "text": [
      "Epoch 1 Batch 0 Loss 4.6826\n",
      "Epoch 1 Batch 100 Loss 2.1219\n",
      "Epoch 1 Batch 200 Loss 1.9130\n",
      "Epoch 1 Batch 300 Loss 1.8220\n",
      "Epoch 1 Batch 400 Loss 1.4942\n",
      "Epoch 1 Batch 500 Loss 1.5151\n",
      "Epoch 1 Batch 600 Loss 1.4444\n",
      "Epoch 1 Batch 700 Loss 1.4265\n",
      "Epoch 1 Batch 800 Loss 1.2142\n",
      "Epoch 1 Batch 900 Loss 1.2207\n",
      "Epoch 1 Batch 1000 Loss 1.1436\n",
      "Epoch 1 Batch 1100 Loss 0.9878\n",
      "Epoch 1 Batch 1200 Loss 0.9801\n",
      "Epoch 1 Loss 1.5013\n",
      "Time taken for 1 epoch 205.2399091720581 sec\n",
      "\n",
      "Epoch 2 Batch 0 Loss 0.7096\n",
      "Epoch 2 Batch 100 Loss 0.7971\n",
      "Epoch 2 Batch 200 Loss 0.7484\n",
      "Epoch 2 Batch 300 Loss 0.7563\n",
      "Epoch 2 Batch 400 Loss 0.7998\n",
      "Epoch 2 Batch 500 Loss 0.6278\n",
      "Epoch 2 Batch 600 Loss 0.6339\n",
      "Epoch 2 Batch 700 Loss 0.6309\n",
      "Epoch 2 Batch 800 Loss 0.6551\n",
      "Epoch 2 Batch 900 Loss 0.6286\n",
      "Epoch 2 Batch 1000 Loss 0.6167\n",
      "Epoch 2 Batch 1100 Loss 0.5281\n",
      "Epoch 2 Batch 1200 Loss 0.5696\n",
      "Epoch 2 Loss 0.6414\n",
      "Time taken for 1 epoch 185.34209275245667 sec\n",
      "\n",
      "Epoch 3 Batch 0 Loss 0.3538\n",
      "Epoch 3 Batch 100 Loss 0.2943\n",
      "Epoch 3 Batch 200 Loss 0.3850\n",
      "Epoch 3 Batch 300 Loss 0.3560\n",
      "Epoch 3 Batch 400 Loss 0.3327\n",
      "Epoch 3 Batch 500 Loss 0.3326\n",
      "Epoch 3 Batch 600 Loss 0.3720\n",
      "Epoch 3 Batch 700 Loss 0.3102\n",
      "Epoch 3 Batch 800 Loss 0.3530\n",
      "Epoch 3 Batch 900 Loss 0.3231\n",
      "Epoch 3 Batch 1000 Loss 0.2821\n",
      "Epoch 3 Batch 1100 Loss 0.3283\n",
      "Epoch 3 Batch 1200 Loss 0.3331\n",
      "Epoch 3 Loss 0.3393\n",
      "Time taken for 1 epoch 185.65130972862244 sec\n",
      "\n",
      "Epoch 4 Batch 0 Loss 0.1597\n",
      "Epoch 4 Batch 100 Loss 0.1857\n",
      "Epoch 4 Batch 200 Loss 0.2335\n",
      "Epoch 4 Batch 300 Loss 0.1822\n",
      "Epoch 4 Batch 400 Loss 0.1897\n",
      "Epoch 4 Batch 500 Loss 0.1598\n",
      "Epoch 4 Batch 600 Loss 0.1951\n",
      "Epoch 4 Batch 700 Loss 0.2375\n",
      "Epoch 4 Batch 800 Loss 0.2444\n",
      "Epoch 4 Batch 900 Loss 0.2387\n",
      "Epoch 4 Batch 1000 Loss 0.2035\n",
      "Epoch 4 Batch 1100 Loss 0.1528\n",
      "Epoch 4 Batch 1200 Loss 0.2127\n",
      "Epoch 4 Loss 0.2130\n",
      "Time taken for 1 epoch 185.80258917808533 sec\n",
      "\n",
      "Epoch 5 Batch 0 Loss 0.1388\n",
      "Epoch 5 Batch 100 Loss 0.1406\n",
      "Epoch 5 Batch 200 Loss 0.1211\n",
      "Epoch 5 Batch 300 Loss 0.1536\n",
      "Epoch 5 Batch 400 Loss 0.1429\n",
      "Epoch 5 Batch 500 Loss 0.1466\n",
      "Epoch 5 Batch 600 Loss 0.1557\n",
      "Epoch 5 Batch 700 Loss 0.1219\n",
      "Epoch 5 Batch 800 Loss 0.1561\n",
      "Epoch 5 Batch 900 Loss 0.1626\n",
      "Epoch 5 Batch 1000 Loss 0.1607\n",
      "Epoch 5 Batch 1100 Loss 0.1834\n",
      "Epoch 5 Batch 1200 Loss 0.2082\n",
      "Epoch 5 Loss 0.1518\n",
      "Time taken for 1 epoch 184.12265920639038 sec\n",
      "\n",
      "Epoch 6 Batch 0 Loss 0.1228\n",
      "Epoch 6 Batch 100 Loss 0.1049\n",
      "Epoch 6 Batch 200 Loss 0.1123\n",
      "Epoch 6 Batch 300 Loss 0.1242\n",
      "Epoch 6 Batch 400 Loss 0.1173\n",
      "Epoch 6 Batch 500 Loss 0.1382\n",
      "Epoch 6 Batch 600 Loss 0.1274\n",
      "Epoch 6 Batch 700 Loss 0.1567\n",
      "Epoch 6 Batch 800 Loss 0.1331\n",
      "Epoch 6 Batch 900 Loss 0.1140\n",
      "Epoch 6 Batch 1000 Loss 0.1437\n",
      "Epoch 6 Batch 1100 Loss 0.1008\n",
      "Epoch 6 Batch 1200 Loss 0.1752\n",
      "Epoch 6 Loss 0.1202\n",
      "Time taken for 1 epoch 185.79233717918396 sec\n",
      "\n",
      "Epoch 7 Batch 0 Loss 0.1020\n",
      "Epoch 7 Batch 100 Loss 0.0967\n",
      "Epoch 7 Batch 200 Loss 0.1054\n",
      "Epoch 7 Batch 300 Loss 0.1178\n",
      "Epoch 7 Batch 400 Loss 0.0723\n",
      "Epoch 7 Batch 500 Loss 0.1266\n",
      "Epoch 7 Batch 600 Loss 0.0713\n",
      "Epoch 7 Batch 700 Loss 0.0665\n",
      "Epoch 7 Batch 800 Loss 0.1255\n",
      "Epoch 7 Batch 900 Loss 0.1138\n",
      "Epoch 7 Batch 1000 Loss 0.1186\n",
      "Epoch 7 Batch 1100 Loss 0.1025\n",
      "Epoch 7 Batch 1200 Loss 0.1277\n",
      "Epoch 7 Loss 0.1011\n",
      "Time taken for 1 epoch 185.36838579177856 sec\n",
      "\n",
      "Epoch 8 Batch 0 Loss 0.0868\n",
      "Epoch 8 Batch 100 Loss 0.0660\n",
      "Epoch 8 Batch 200 Loss 0.0855\n",
      "Epoch 8 Batch 300 Loss 0.0937\n",
      "Epoch 8 Batch 400 Loss 0.0763\n",
      "Epoch 8 Batch 500 Loss 0.0539\n",
      "Epoch 8 Batch 600 Loss 0.0837\n",
      "Epoch 8 Batch 700 Loss 0.1147\n",
      "Epoch 8 Batch 800 Loss 0.0655\n",
      "Epoch 8 Batch 900 Loss 0.1029\n",
      "Epoch 8 Batch 1000 Loss 0.1225\n",
      "Epoch 8 Batch 1100 Loss 0.0827\n",
      "Epoch 8 Batch 1200 Loss 0.1019\n",
      "Epoch 8 Loss 0.0902\n",
      "Time taken for 1 epoch 184.79178833961487 sec\n",
      "\n",
      "Epoch 9 Batch 0 Loss 0.0474\n",
      "Epoch 9 Batch 100 Loss 0.1101\n",
      "Epoch 9 Batch 200 Loss 0.0608\n",
      "Epoch 9 Batch 300 Loss 0.0587\n",
      "Epoch 9 Batch 400 Loss 0.0921\n",
      "Epoch 9 Batch 500 Loss 0.0596\n",
      "Epoch 9 Batch 600 Loss 0.0606\n",
      "Epoch 9 Batch 700 Loss 0.0915\n",
      "Epoch 9 Batch 800 Loss 0.0989\n",
      "Epoch 9 Batch 900 Loss 0.1648\n",
      "Epoch 9 Batch 1000 Loss 0.0860\n",
      "Epoch 9 Batch 1100 Loss 0.0774\n",
      "Epoch 9 Batch 1200 Loss 0.1124\n",
      "Epoch 9 Loss 0.0821\n",
      "Time taken for 1 epoch 172.93122935295105 sec\n",
      "\n",
      "Epoch 10 Batch 0 Loss 0.0626\n",
      "Epoch 10 Batch 100 Loss 0.0407\n",
      "Epoch 10 Batch 200 Loss 0.0548\n",
      "Epoch 10 Batch 300 Loss 0.0644\n",
      "Epoch 10 Batch 400 Loss 0.0769\n",
      "Epoch 10 Batch 500 Loss 0.0729\n",
      "Epoch 10 Batch 600 Loss 0.0786\n",
      "Epoch 10 Batch 700 Loss 0.0532\n",
      "Epoch 10 Batch 800 Loss 0.1341\n",
      "Epoch 10 Batch 900 Loss 0.0865\n",
      "Epoch 10 Batch 1000 Loss 0.1098\n",
      "Epoch 10 Batch 1100 Loss 0.0656\n",
      "Epoch 10 Batch 1200 Loss 0.0581\n",
      "Epoch 10 Loss 0.0786\n",
      "Time taken for 1 epoch 174.2768497467041 sec\n",
      "\n",
      "Epoch 11 Batch 0 Loss 0.0447\n",
      "Epoch 11 Batch 100 Loss 0.0447\n",
      "Epoch 11 Batch 200 Loss 0.0666\n",
      "Epoch 11 Batch 300 Loss 0.0654\n",
      "Epoch 11 Batch 400 Loss 0.0622\n",
      "Epoch 11 Batch 500 Loss 0.1009\n",
      "Epoch 11 Batch 600 Loss 0.0659\n",
      "Epoch 11 Batch 700 Loss 0.0495\n",
      "Epoch 11 Batch 800 Loss 0.1079\n",
      "Epoch 11 Batch 900 Loss 0.0582\n",
      "Epoch 11 Batch 1000 Loss 0.1160\n",
      "Epoch 11 Batch 1100 Loss 0.0729\n",
      "Epoch 11 Batch 1200 Loss 0.1119\n",
      "Epoch 11 Loss 0.0736\n",
      "Time taken for 1 epoch 172.94096565246582 sec\n",
      "\n",
      "Epoch 12 Batch 0 Loss 0.0621\n",
      "Epoch 12 Batch 100 Loss 0.0486\n",
      "Epoch 12 Batch 200 Loss 0.0663\n",
      "Epoch 12 Batch 300 Loss 0.0454\n",
      "Epoch 12 Batch 400 Loss 0.0603\n",
      "Epoch 12 Batch 500 Loss 0.1006\n",
      "Epoch 12 Batch 600 Loss 0.0588\n",
      "Epoch 12 Batch 700 Loss 0.0746\n",
      "Epoch 12 Batch 800 Loss 0.0884\n",
      "Epoch 12 Batch 900 Loss 0.0557\n",
      "Epoch 12 Batch 1000 Loss 0.0507\n",
      "Epoch 12 Batch 1100 Loss 0.0796\n",
      "Epoch 12 Batch 1200 Loss 0.0605\n",
      "Epoch 12 Loss 0.0694\n",
      "Time taken for 1 epoch 174.17021012306213 sec\n",
      "\n",
      "Epoch 13 Batch 0 Loss 0.0602\n",
      "Epoch 13 Batch 100 Loss 0.0783\n",
      "Epoch 13 Batch 200 Loss 0.0896\n",
      "Epoch 13 Batch 300 Loss 0.0797\n",
      "Epoch 13 Batch 400 Loss 0.1021\n",
      "Epoch 13 Batch 500 Loss 0.0970\n",
      "Epoch 13 Batch 600 Loss 0.0955\n",
      "Epoch 13 Batch 700 Loss 0.1082\n",
      "Epoch 13 Batch 800 Loss 0.0494\n",
      "Epoch 13 Batch 900 Loss 0.0733\n",
      "Epoch 13 Batch 1000 Loss 0.0498\n",
      "Epoch 13 Batch 1100 Loss 0.0809\n",
      "Epoch 13 Batch 1200 Loss 0.0696\n",
      "Epoch 13 Loss 0.0672\n",
      "Time taken for 1 epoch 172.86174654960632 sec\n",
      "\n",
      "Epoch 14 Batch 0 Loss 0.0805\n",
      "Epoch 14 Batch 100 Loss 0.0631\n",
      "Epoch 14 Batch 200 Loss 0.0549\n",
      "Epoch 14 Batch 300 Loss 0.0563\n",
      "Epoch 14 Batch 400 Loss 0.0689\n",
      "Epoch 14 Batch 500 Loss 0.0758\n",
      "Epoch 14 Batch 600 Loss 0.0729\n",
      "Epoch 14 Batch 700 Loss 0.0703\n",
      "Epoch 14 Batch 800 Loss 0.0717\n",
      "Epoch 14 Batch 900 Loss 0.0787\n",
      "Epoch 14 Batch 1000 Loss 0.0933\n",
      "Epoch 14 Batch 1100 Loss 0.0536\n",
      "Epoch 14 Batch 1200 Loss 0.0791\n",
      "Epoch 14 Loss 0.0645\n",
      "Time taken for 1 epoch 172.60503315925598 sec\n",
      "\n",
      "Epoch 15 Batch 0 Loss 0.0653\n",
      "Epoch 15 Batch 100 Loss 0.0358\n",
      "Epoch 15 Batch 200 Loss 0.0714\n",
      "Epoch 15 Batch 300 Loss 0.0509\n",
      "Epoch 15 Batch 400 Loss 0.0763\n",
      "Epoch 15 Batch 500 Loss 0.0587\n",
      "Epoch 15 Batch 600 Loss 0.0495\n",
      "Epoch 15 Batch 700 Loss 0.0922\n",
      "Epoch 15 Batch 800 Loss 0.0460\n",
      "Epoch 15 Batch 900 Loss 0.0347\n",
      "Epoch 15 Batch 1000 Loss 0.0635\n",
      "Epoch 15 Batch 1100 Loss 0.0518\n",
      "Epoch 15 Batch 1200 Loss 0.0696\n",
      "Epoch 15 Loss 0.0628\n",
      "Time taken for 1 epoch 170.885089635849 sec\n",
      "\n",
      "Epoch 16 Batch 0 Loss 0.0602\n",
      "Epoch 16 Batch 100 Loss 0.0590\n",
      "Epoch 16 Batch 200 Loss 0.0482\n",
      "Epoch 16 Batch 300 Loss 0.0363\n",
      "Epoch 16 Batch 400 Loss 0.0558\n",
      "Epoch 16 Batch 500 Loss 0.0521\n",
      "Epoch 16 Batch 600 Loss 0.0502\n",
      "Epoch 16 Batch 700 Loss 0.0572\n",
      "Epoch 16 Batch 800 Loss 0.0583\n",
      "Epoch 16 Batch 900 Loss 0.0738\n",
      "Epoch 16 Batch 1000 Loss 0.0550\n",
      "Epoch 16 Batch 1100 Loss 0.0879\n",
      "Epoch 16 Batch 1200 Loss 0.0899\n",
      "Epoch 16 Loss 0.0602\n",
      "Time taken for 1 epoch 172.08326983451843 sec\n",
      "\n",
      "Epoch 17 Batch 0 Loss 0.0495\n",
      "Epoch 17 Batch 100 Loss 0.0677\n",
      "Epoch 17 Batch 200 Loss 0.0514\n",
      "Epoch 17 Batch 300 Loss 0.0416\n",
      "Epoch 17 Batch 400 Loss 0.0591\n",
      "Epoch 17 Batch 500 Loss 0.0324\n",
      "Epoch 17 Batch 600 Loss 0.0594\n",
      "Epoch 17 Batch 700 Loss 0.0708\n",
      "Epoch 17 Batch 800 Loss 0.0325\n",
      "Epoch 17 Batch 900 Loss 0.0408\n",
      "Epoch 17 Batch 1000 Loss 0.0545\n",
      "Epoch 17 Batch 1100 Loss 0.0860\n",
      "Epoch 17 Batch 1200 Loss 0.0907\n",
      "Epoch 17 Loss 0.0587\n",
      "Time taken for 1 epoch 170.94728636741638 sec\n",
      "\n",
      "Epoch 18 Batch 0 Loss 0.0393\n",
      "Epoch 18 Batch 100 Loss 0.0458\n",
      "Epoch 18 Batch 200 Loss 0.0277\n",
      "Epoch 18 Batch 300 Loss 0.0535\n",
      "Epoch 18 Batch 400 Loss 0.0366\n",
      "Epoch 18 Batch 500 Loss 0.0489\n",
      "Epoch 18 Batch 600 Loss 0.0718\n",
      "Epoch 18 Batch 700 Loss 0.0835\n",
      "Epoch 18 Batch 800 Loss 0.0549\n",
      "Epoch 18 Batch 900 Loss 0.0804\n"
     ]
    },
    {
     "name": "stdout",
     "output_type": "stream",
     "text": [
      "Epoch 18 Batch 1000 Loss 0.0717\n",
      "Epoch 18 Batch 1100 Loss 0.0896\n",
      "Epoch 18 Batch 1200 Loss 0.0755\n",
      "Epoch 18 Loss 0.0571\n",
      "Time taken for 1 epoch 172.08159923553467 sec\n",
      "\n",
      "Epoch 19 Batch 0 Loss 0.0589\n",
      "Epoch 19 Batch 100 Loss 0.0583\n",
      "Epoch 19 Batch 200 Loss 0.0374\n",
      "Epoch 19 Batch 300 Loss 0.0588\n",
      "Epoch 19 Batch 400 Loss 0.0713\n",
      "Epoch 19 Batch 500 Loss 0.0826\n",
      "Epoch 19 Batch 600 Loss 0.0533\n",
      "Epoch 19 Batch 700 Loss 0.0494\n",
      "Epoch 19 Batch 800 Loss 0.0457\n",
      "Epoch 19 Batch 900 Loss 0.0564\n",
      "Epoch 19 Batch 1000 Loss 0.0903\n",
      "Epoch 19 Batch 1100 Loss 0.1049\n",
      "Epoch 19 Batch 1200 Loss 0.0880\n",
      "Epoch 19 Loss 0.0563\n",
      "Time taken for 1 epoch 170.8322319984436 sec\n",
      "\n",
      "Epoch 20 Batch 0 Loss 0.0314\n",
      "Epoch 20 Batch 100 Loss 0.0540\n",
      "Epoch 20 Batch 200 Loss 0.0429\n",
      "Epoch 20 Batch 300 Loss 0.0444\n",
      "Epoch 20 Batch 400 Loss 0.0554\n",
      "Epoch 20 Batch 500 Loss 0.0284\n",
      "Epoch 20 Batch 600 Loss 0.0419\n",
      "Epoch 20 Batch 700 Loss 0.0638\n",
      "Epoch 20 Batch 800 Loss 0.0391\n",
      "Epoch 20 Batch 900 Loss 0.0429\n",
      "Epoch 20 Batch 1000 Loss 0.0435\n",
      "Epoch 20 Batch 1100 Loss 0.0724\n",
      "Epoch 20 Batch 1200 Loss 0.0585\n",
      "Epoch 20 Loss 0.0547\n",
      "Time taken for 1 epoch 172.69679021835327 sec\n",
      "\n",
      "Epoch 21 Batch 0 Loss 0.0889\n",
      "Epoch 21 Batch 100 Loss 0.0742\n",
      "Epoch 21 Batch 200 Loss 0.0420\n",
      "Epoch 21 Batch 300 Loss 0.0243\n",
      "Epoch 21 Batch 400 Loss 0.0543\n",
      "Epoch 21 Batch 500 Loss 0.0333\n",
      "Epoch 21 Batch 600 Loss 0.0220\n",
      "Epoch 21 Batch 700 Loss 0.0326\n",
      "Epoch 21 Batch 800 Loss 0.0631\n",
      "Epoch 21 Batch 900 Loss 0.0853\n",
      "Epoch 21 Batch 1000 Loss 0.0952\n",
      "Epoch 21 Batch 1100 Loss 0.0721\n",
      "Epoch 21 Batch 1200 Loss 0.0383\n",
      "Epoch 21 Loss 0.0535\n",
      "Time taken for 1 epoch 171.7628881931305 sec\n",
      "\n",
      "Epoch 22 Batch 0 Loss 0.0440\n",
      "Epoch 22 Batch 100 Loss 0.0502\n",
      "Epoch 22 Batch 200 Loss 0.0350\n",
      "Epoch 22 Batch 300 Loss 0.0616\n",
      "Epoch 22 Batch 400 Loss 0.0451\n",
      "Epoch 22 Batch 500 Loss 0.0387\n",
      "Epoch 22 Batch 600 Loss 0.0317\n",
      "Epoch 22 Batch 700 Loss 0.0409\n",
      "Epoch 22 Batch 800 Loss 0.0816\n",
      "Epoch 22 Batch 900 Loss 0.0816\n",
      "Epoch 22 Batch 1000 Loss 0.0340\n",
      "Epoch 22 Batch 1100 Loss 0.0765\n",
      "Epoch 22 Batch 1200 Loss 0.0661\n",
      "Epoch 22 Loss 0.0523\n",
      "Time taken for 1 epoch 173.4686460494995 sec\n",
      "\n",
      "Epoch 23 Batch 0 Loss 0.0385\n",
      "Epoch 23 Batch 100 Loss 0.0201\n",
      "Epoch 23 Batch 200 Loss 0.0345\n",
      "Epoch 23 Batch 300 Loss 0.0484\n",
      "Epoch 23 Batch 400 Loss 0.0475\n",
      "Epoch 23 Batch 500 Loss 0.0714\n",
      "Epoch 23 Batch 600 Loss 0.0547\n",
      "Epoch 23 Batch 700 Loss 0.0649\n",
      "Epoch 23 Batch 800 Loss 0.0652\n",
      "Epoch 23 Batch 900 Loss 0.0662\n",
      "Epoch 23 Batch 1000 Loss 0.0359\n",
      "Epoch 23 Batch 1100 Loss 0.0531\n",
      "Epoch 23 Batch 1200 Loss 0.0714\n",
      "Epoch 23 Loss 0.0510\n",
      "Time taken for 1 epoch 172.6718692779541 sec\n",
      "\n",
      "Epoch 24 Batch 0 Loss 0.0272\n",
      "Epoch 24 Batch 100 Loss 0.0475\n",
      "Epoch 24 Batch 200 Loss 0.0407\n",
      "Epoch 24 Batch 300 Loss 0.0371\n",
      "Epoch 24 Batch 400 Loss 0.0483\n",
      "Epoch 24 Batch 500 Loss 0.0442\n",
      "Epoch 24 Batch 600 Loss 0.0250\n",
      "Epoch 24 Batch 700 Loss 0.0445\n",
      "Epoch 24 Batch 800 Loss 0.0526\n",
      "Epoch 24 Batch 900 Loss 0.0677\n",
      "Epoch 24 Batch 1000 Loss 0.0540\n",
      "Epoch 24 Batch 1100 Loss 0.0558\n",
      "Epoch 24 Batch 1200 Loss 0.0518\n",
      "Epoch 24 Loss 0.0508\n",
      "Time taken for 1 epoch 173.95967507362366 sec\n",
      "\n",
      "Epoch 25 Batch 0 Loss 0.0374\n",
      "Epoch 25 Batch 100 Loss 0.0460\n",
      "Epoch 25 Batch 200 Loss 0.0534\n",
      "Epoch 25 Batch 300 Loss 0.0452\n",
      "Epoch 25 Batch 400 Loss 0.0427\n",
      "Epoch 25 Batch 500 Loss 0.0480\n",
      "Epoch 25 Batch 600 Loss 0.0402\n",
      "Epoch 25 Batch 700 Loss 0.0439\n",
      "Epoch 25 Batch 800 Loss 0.0604\n",
      "Epoch 25 Batch 900 Loss 0.0539\n",
      "Epoch 25 Batch 1000 Loss 0.0752\n",
      "Epoch 25 Batch 1100 Loss 0.0620\n",
      "Epoch 25 Batch 1200 Loss 0.0488\n",
      "Epoch 25 Loss 0.0497\n",
      "Time taken for 1 epoch 172.6860556602478 sec\n",
      "\n",
      "Epoch 26 Batch 0 Loss 0.0312\n",
      "Epoch 26 Batch 100 Loss 0.0368\n",
      "Epoch 26 Batch 200 Loss 0.0587\n",
      "Epoch 26 Batch 300 Loss 0.0353\n",
      "Epoch 26 Batch 400 Loss 0.0446\n",
      "Epoch 26 Batch 500 Loss 0.0639\n",
      "Epoch 26 Batch 600 Loss 0.0564\n",
      "Epoch 26 Batch 700 Loss 0.0526\n",
      "Epoch 26 Batch 800 Loss 0.0736\n",
      "Epoch 26 Batch 900 Loss 0.0420\n",
      "Epoch 26 Batch 1000 Loss 0.0451\n",
      "Epoch 26 Batch 1100 Loss 0.0539\n",
      "Epoch 26 Batch 1200 Loss 0.0773\n",
      "Epoch 26 Loss 0.0489\n",
      "Time taken for 1 epoch 173.4949996471405 sec\n",
      "\n",
      "Epoch 27 Batch 0 Loss 0.0281\n",
      "Epoch 27 Batch 100 Loss 0.0390\n",
      "Epoch 27 Batch 200 Loss 0.0301\n",
      "Epoch 27 Batch 300 Loss 0.0348\n",
      "Epoch 27 Batch 400 Loss 0.0420\n",
      "Epoch 27 Batch 500 Loss 0.0609\n",
      "Epoch 27 Batch 600 Loss 0.0499\n",
      "Epoch 27 Batch 700 Loss 0.0487\n",
      "Epoch 27 Batch 800 Loss 0.0517\n",
      "Epoch 27 Batch 900 Loss 0.0692\n",
      "Epoch 27 Batch 1000 Loss 0.0367\n",
      "Epoch 27 Batch 1100 Loss 0.1009\n",
      "Epoch 27 Batch 1200 Loss 0.0702\n",
      "Epoch 27 Loss 0.0475\n",
      "Time taken for 1 epoch 171.6258933544159 sec\n",
      "\n",
      "Epoch 28 Batch 0 Loss 0.0362\n",
      "Epoch 28 Batch 100 Loss 0.0567\n",
      "Epoch 28 Batch 200 Loss 0.0394\n",
      "Epoch 28 Batch 300 Loss 0.0433\n",
      "Epoch 28 Batch 400 Loss 0.0284\n",
      "Epoch 28 Batch 500 Loss 0.0591\n",
      "Epoch 28 Batch 600 Loss 0.0514\n",
      "Epoch 28 Batch 700 Loss 0.0580\n",
      "Epoch 28 Batch 800 Loss 0.0296\n",
      "Epoch 28 Batch 900 Loss 0.0585\n",
      "Epoch 28 Batch 1000 Loss 0.0640\n",
      "Epoch 28 Batch 1100 Loss 0.0687\n",
      "Epoch 28 Batch 1200 Loss 0.0933\n",
      "Epoch 28 Loss 0.0480\n",
      "Time taken for 1 epoch 172.89914965629578 sec\n",
      "\n",
      "Epoch 29 Batch 0 Loss 0.0316\n",
      "Epoch 29 Batch 100 Loss 0.0136\n",
      "Epoch 29 Batch 200 Loss 0.0222\n",
      "Epoch 29 Batch 300 Loss 0.0424\n",
      "Epoch 29 Batch 400 Loss 0.0379\n",
      "Epoch 29 Batch 500 Loss 0.0295\n",
      "Epoch 29 Batch 600 Loss 0.0360\n",
      "Epoch 29 Batch 700 Loss 0.0271\n",
      "Epoch 29 Batch 800 Loss 0.0432\n",
      "Epoch 29 Batch 900 Loss 0.0671\n",
      "Epoch 29 Batch 1000 Loss 0.0555\n",
      "Epoch 29 Batch 1100 Loss 0.0379\n",
      "Epoch 29 Batch 1200 Loss 0.0638\n",
      "Epoch 29 Loss 0.0468\n",
      "Time taken for 1 epoch 172.1348476409912 sec\n",
      "\n",
      "Epoch 30 Batch 0 Loss 0.0274\n",
      "Epoch 30 Batch 100 Loss 0.0328\n",
      "Epoch 30 Batch 200 Loss 0.0562\n",
      "Epoch 30 Batch 300 Loss 0.0398\n",
      "Epoch 30 Batch 400 Loss 0.0225\n",
      "Epoch 30 Batch 500 Loss 0.0353\n",
      "Epoch 30 Batch 600 Loss 0.0410\n",
      "Epoch 30 Batch 700 Loss 0.0667\n",
      "Epoch 30 Batch 800 Loss 0.0214\n",
      "Epoch 30 Batch 900 Loss 0.0467\n",
      "Epoch 30 Batch 1000 Loss 0.0614\n",
      "Epoch 30 Batch 1100 Loss 0.0555\n",
      "Epoch 30 Batch 1200 Loss 0.0452\n",
      "Epoch 30 Loss 0.0457\n",
      "Time taken for 1 epoch 173.88562273979187 sec\n",
      "\n",
      "Epoch 31 Batch 0 Loss 0.0483\n",
      "Epoch 31 Batch 100 Loss 0.0576\n",
      "Epoch 31 Batch 200 Loss 0.0308\n",
      "Epoch 31 Batch 300 Loss 0.0300\n",
      "Epoch 31 Batch 400 Loss 0.0396\n",
      "Epoch 31 Batch 500 Loss 0.0345\n",
      "Epoch 31 Batch 600 Loss 0.0568\n",
      "Epoch 31 Batch 700 Loss 0.0467\n",
      "Epoch 31 Batch 800 Loss 0.0703\n",
      "Epoch 31 Batch 900 Loss 0.0573\n",
      "Epoch 31 Batch 1000 Loss 0.0674\n",
      "Epoch 31 Batch 1100 Loss 0.0364\n",
      "Epoch 31 Batch 1200 Loss 0.0490\n",
      "Epoch 31 Loss 0.0456\n",
      "Time taken for 1 epoch 173.1248903274536 sec\n",
      "\n",
      "Epoch 32 Batch 0 Loss 0.0488\n",
      "Epoch 32 Batch 100 Loss 0.0405\n",
      "Epoch 32 Batch 200 Loss 0.0575\n",
      "Epoch 32 Batch 300 Loss 0.0443\n",
      "Epoch 32 Batch 400 Loss 0.0314\n",
      "Epoch 32 Batch 500 Loss 0.0481\n",
      "Epoch 32 Batch 600 Loss 0.0422\n",
      "Epoch 32 Batch 700 Loss 0.0432\n",
      "Epoch 32 Batch 800 Loss 0.0424\n",
      "Epoch 32 Batch 900 Loss 0.0491\n",
      "Epoch 32 Batch 1000 Loss 0.0720\n",
      "Epoch 32 Batch 1100 Loss 0.0602\n",
      "Epoch 32 Batch 1200 Loss 0.0502\n",
      "Epoch 32 Loss 0.0451\n",
      "Time taken for 1 epoch 174.74353289604187 sec\n",
      "\n",
      "Epoch 33 Batch 0 Loss 0.0348\n",
      "Epoch 33 Batch 100 Loss 0.0430\n",
      "Epoch 33 Batch 200 Loss 0.0563\n",
      "Epoch 33 Batch 300 Loss 0.0412\n",
      "Epoch 33 Batch 400 Loss 0.0339\n",
      "Epoch 33 Batch 500 Loss 0.0606\n",
      "Epoch 33 Batch 600 Loss 0.0300\n",
      "Epoch 33 Batch 700 Loss 0.0265\n",
      "Epoch 33 Batch 800 Loss 0.0522\n",
      "Epoch 33 Batch 900 Loss 0.0491\n",
      "Epoch 33 Batch 1000 Loss 0.0617\n",
      "Epoch 33 Batch 1100 Loss 0.0468\n",
      "Epoch 33 Batch 1200 Loss 0.0605\n",
      "Epoch 33 Loss 0.0452\n",
      "Time taken for 1 epoch 173.01328229904175 sec\n",
      "\n",
      "Epoch 34 Batch 0 Loss 0.0364\n",
      "Epoch 34 Batch 100 Loss 0.0312\n",
      "Epoch 34 Batch 200 Loss 0.0405\n",
      "Epoch 34 Batch 300 Loss 0.0261\n",
      "Epoch 34 Batch 400 Loss 0.0317\n",
      "Epoch 34 Batch 500 Loss 0.0655\n",
      "Epoch 34 Batch 600 Loss 0.0514\n",
      "Epoch 34 Batch 700 Loss 0.0765\n",
      "Epoch 34 Batch 800 Loss 0.0666\n",
      "Epoch 34 Batch 900 Loss 0.0544\n",
      "Epoch 34 Batch 1000 Loss 0.0344\n",
      "Epoch 34 Batch 1100 Loss 0.0522\n",
      "Epoch 34 Batch 1200 Loss 0.0524\n",
      "Epoch 34 Loss 0.0436\n",
      "Time taken for 1 epoch 174.50161290168762 sec\n",
      "\n",
      "Epoch 35 Batch 0 Loss 0.0412\n",
      "Epoch 35 Batch 100 Loss 0.0442\n",
      "Epoch 35 Batch 200 Loss 0.0397\n",
      "Epoch 35 Batch 300 Loss 0.0501\n",
      "Epoch 35 Batch 400 Loss 0.0216\n",
      "Epoch 35 Batch 500 Loss 0.0433\n",
      "Epoch 35 Batch 600 Loss 0.0514\n",
      "Epoch 35 Batch 700 Loss 0.0269\n",
      "Epoch 35 Batch 800 Loss 0.0505\n",
      "Epoch 35 Batch 900 Loss 0.0474\n",
      "Epoch 35 Batch 1000 Loss 0.0489\n",
      "Epoch 35 Batch 1100 Loss 0.0492\n",
      "Epoch 35 Batch 1200 Loss 0.0410\n",
      "Epoch 35 Loss 0.0434\n",
      "Time taken for 1 epoch 173.98305106163025 sec\n",
      "\n",
      "Epoch 36 Batch 0 Loss 0.0254\n",
      "Epoch 36 Batch 100 Loss 0.0490\n",
      "Epoch 36 Batch 200 Loss 0.0361\n",
      "Epoch 36 Batch 300 Loss 0.0450\n",
      "Epoch 36 Batch 400 Loss 0.0208\n",
      "Epoch 36 Batch 500 Loss 0.0524\n",
      "Epoch 36 Batch 600 Loss 0.0451\n",
      "Epoch 36 Batch 700 Loss 0.0431\n",
      "Epoch 36 Batch 800 Loss 0.0367\n",
      "Epoch 36 Batch 900 Loss 0.0529\n",
      "Epoch 36 Batch 1000 Loss 0.0651\n",
      "Epoch 36 Batch 1100 Loss 0.0477\n",
      "Epoch 36 Batch 1200 Loss 0.0448\n",
      "Epoch 36 Loss 0.0440\n",
      "Time taken for 1 epoch 175.20692586898804 sec\n",
      "\n",
      "Epoch 37 Batch 0 Loss 0.0164\n",
      "Epoch 37 Batch 100 Loss 0.0537\n",
      "Epoch 37 Batch 200 Loss 0.0277\n",
      "Epoch 37 Batch 300 Loss 0.0564\n",
      "Epoch 37 Batch 400 Loss 0.0255\n",
      "Epoch 37 Batch 500 Loss 0.0386\n",
      "Epoch 37 Batch 600 Loss 0.0372\n",
      "Epoch 37 Batch 700 Loss 0.0564\n",
      "Epoch 37 Batch 800 Loss 0.0325\n",
      "Epoch 37 Batch 900 Loss 0.0387\n",
      "Epoch 37 Batch 1000 Loss 0.0446\n",
      "Epoch 37 Batch 1100 Loss 0.0497\n",
      "Epoch 37 Batch 1200 Loss 0.0634\n",
      "Epoch 37 Loss 0.0423\n",
      "Time taken for 1 epoch 173.96080255508423 sec\n",
      "\n",
      "Epoch 38 Batch 0 Loss 0.0143\n",
      "Epoch 38 Batch 100 Loss 0.0284\n",
      "Epoch 38 Batch 200 Loss 0.0221\n",
      "Epoch 38 Batch 300 Loss 0.0312\n",
      "Epoch 38 Batch 400 Loss 0.0566\n",
      "Epoch 38 Batch 500 Loss 0.0510\n",
      "Epoch 38 Batch 600 Loss 0.0337\n",
      "Epoch 38 Batch 700 Loss 0.0552\n",
      "Epoch 38 Batch 800 Loss 0.0546\n",
      "Epoch 38 Batch 900 Loss 0.0398\n",
      "Epoch 38 Batch 1000 Loss 0.0464\n",
      "Epoch 38 Batch 1100 Loss 0.0448\n",
      "Epoch 38 Batch 1200 Loss 0.0672\n",
      "Epoch 38 Loss 0.0426\n",
      "Time taken for 1 epoch 190.36446356773376 sec\n",
      "\n",
      "Epoch 39 Batch 0 Loss 0.0286\n",
      "Epoch 39 Batch 100 Loss 0.0563\n",
      "Epoch 39 Batch 200 Loss 0.0344\n",
      "Epoch 39 Batch 300 Loss 0.0396\n",
      "Epoch 39 Batch 400 Loss 0.0316\n",
      "Epoch 39 Batch 500 Loss 0.0509\n",
      "Epoch 39 Batch 600 Loss 0.0407\n",
      "Epoch 39 Batch 700 Loss 0.0336\n",
      "Epoch 39 Batch 800 Loss 0.0303\n",
      "Epoch 39 Batch 900 Loss 0.0560\n",
      "Epoch 39 Batch 1000 Loss 0.0231\n",
      "Epoch 39 Batch 1100 Loss 0.0259\n",
      "Epoch 39 Batch 1200 Loss 0.0461\n",
      "Epoch 39 Loss 0.0420\n",
      "Time taken for 1 epoch 182.84595894813538 sec\n",
      "\n",
      "Epoch 40 Batch 0 Loss 0.0267\n",
      "Epoch 40 Batch 100 Loss 0.0666\n",
      "Epoch 40 Batch 200 Loss 0.0291\n",
      "Epoch 40 Batch 300 Loss 0.0285\n",
      "Epoch 40 Batch 400 Loss 0.0500\n",
      "Epoch 40 Batch 500 Loss 0.0423\n",
      "Epoch 40 Batch 600 Loss 0.0576\n",
      "Epoch 40 Batch 700 Loss 0.0411\n",
      "Epoch 40 Batch 800 Loss 0.0178\n",
      "Epoch 40 Batch 900 Loss 0.0373\n",
      "Epoch 40 Batch 1000 Loss 0.0397\n",
      "Epoch 40 Batch 1100 Loss 0.0252\n",
      "Epoch 40 Batch 1200 Loss 0.0556\n",
      "Epoch 40 Loss 0.0426\n",
      "Time taken for 1 epoch 181.65683674812317 sec\n",
      "\n",
      "Epoch 41 Batch 0 Loss 0.0166\n",
      "Epoch 41 Batch 100 Loss 0.0328\n",
      "Epoch 41 Batch 200 Loss 0.0288\n",
      "Epoch 41 Batch 300 Loss 0.0326\n",
      "Epoch 41 Batch 400 Loss 0.0238\n",
      "Epoch 41 Batch 500 Loss 0.0394\n",
      "Epoch 41 Batch 600 Loss 0.0720\n",
      "Epoch 41 Batch 700 Loss 0.0418\n",
      "Epoch 41 Batch 800 Loss 0.0552\n",
      "Epoch 41 Batch 900 Loss 0.0638\n",
      "Epoch 41 Batch 1000 Loss 0.0426\n",
      "Epoch 41 Batch 1100 Loss 0.0453\n",
      "Epoch 41 Batch 1200 Loss 0.0526\n",
      "Epoch 41 Loss 0.0412\n",
      "Time taken for 1 epoch 182.1103584766388 sec\n",
      "\n",
      "Epoch 42 Batch 0 Loss 0.0343\n",
      "Epoch 42 Batch 100 Loss 0.0210\n",
      "Epoch 42 Batch 200 Loss 0.0444\n",
      "Epoch 42 Batch 300 Loss 0.0494\n",
      "Epoch 42 Batch 400 Loss 0.0395\n",
      "Epoch 42 Batch 500 Loss 0.0715\n",
      "Epoch 42 Batch 600 Loss 0.0244\n",
      "Epoch 42 Batch 700 Loss 0.0236\n",
      "Epoch 42 Batch 800 Loss 0.0565\n",
      "Epoch 42 Batch 900 Loss 0.0898\n",
      "Epoch 42 Batch 1000 Loss 0.0459\n",
      "Epoch 42 Batch 1100 Loss 0.0289\n",
      "Epoch 42 Batch 1200 Loss 0.0455\n",
      "Epoch 42 Loss 0.0403\n",
      "Time taken for 1 epoch 181.18559885025024 sec\n",
      "\n",
      "Epoch 43 Batch 0 Loss 0.0301\n",
      "Epoch 43 Batch 100 Loss 0.0580\n",
      "Epoch 43 Batch 200 Loss 0.0316\n",
      "Epoch 43 Batch 300 Loss 0.0286\n",
      "Epoch 43 Batch 400 Loss 0.0487\n",
      "Epoch 43 Batch 500 Loss 0.0530\n",
      "Epoch 43 Batch 600 Loss 0.0445\n",
      "Epoch 43 Batch 700 Loss 0.0693\n",
      "Epoch 43 Batch 800 Loss 0.0274\n",
      "Epoch 43 Batch 900 Loss 0.0238\n",
      "Epoch 43 Batch 1000 Loss 0.0429\n",
      "Epoch 43 Batch 1100 Loss 0.0615\n",
      "Epoch 43 Batch 1200 Loss 0.0653\n",
      "Epoch 43 Loss 0.0407\n",
      "Time taken for 1 epoch 181.96114873886108 sec\n",
      "\n",
      "Epoch 44 Batch 0 Loss 0.0181\n",
      "Epoch 44 Batch 100 Loss 0.0254\n",
      "Epoch 44 Batch 200 Loss 0.0273\n",
      "Epoch 44 Batch 300 Loss 0.0212\n",
      "Epoch 44 Batch 400 Loss 0.0426\n",
      "Epoch 44 Batch 500 Loss 0.0200\n",
      "Epoch 44 Batch 600 Loss 0.0366\n",
      "Epoch 44 Batch 700 Loss 0.0633\n",
      "Epoch 44 Batch 800 Loss 0.0518\n",
      "Epoch 44 Batch 900 Loss 0.0466\n",
      "Epoch 44 Batch 1000 Loss 0.0384\n",
      "Epoch 44 Batch 1100 Loss 0.0403\n",
      "Epoch 44 Batch 1200 Loss 0.0203\n",
      "Epoch 44 Loss 0.0408\n",
      "Time taken for 1 epoch 178.0612654685974 sec\n",
      "\n",
      "Epoch 45 Batch 0 Loss 0.0143\n",
      "Epoch 45 Batch 100 Loss 0.0358\n",
      "Epoch 45 Batch 200 Loss 0.0391\n",
      "Epoch 45 Batch 300 Loss 0.0509\n",
      "Epoch 45 Batch 400 Loss 0.0555\n",
      "Epoch 45 Batch 500 Loss 0.0762\n",
      "Epoch 45 Batch 600 Loss 0.0368\n",
      "Epoch 45 Batch 700 Loss 0.0201\n",
      "Epoch 45 Batch 800 Loss 0.0447\n",
      "Epoch 45 Batch 900 Loss 0.0401\n",
      "Epoch 45 Batch 1000 Loss 0.0521\n",
      "Epoch 45 Batch 1100 Loss 0.0486\n",
      "Epoch 45 Batch 1200 Loss 0.0583\n",
      "Epoch 45 Loss 0.0401\n",
      "Time taken for 1 epoch 176.0947868824005 sec\n",
      "\n",
      "Epoch 46 Batch 0 Loss 0.0216\n",
      "Epoch 46 Batch 100 Loss 0.0407\n",
      "Epoch 46 Batch 200 Loss 0.0780\n",
      "Epoch 46 Batch 300 Loss 0.0340\n",
      "Epoch 46 Batch 400 Loss 0.0350\n",
      "Epoch 46 Batch 500 Loss 0.0377\n",
      "Epoch 46 Batch 600 Loss 0.0153\n",
      "Epoch 46 Batch 700 Loss 0.0381\n",
      "Epoch 46 Batch 800 Loss 0.0476\n",
      "Epoch 46 Batch 900 Loss 0.0416\n",
      "Epoch 46 Batch 1000 Loss 0.0419\n",
      "Epoch 46 Batch 1100 Loss 0.0782\n",
      "Epoch 46 Batch 1200 Loss 0.0430\n",
      "Epoch 46 Loss 0.0401\n",
      "Time taken for 1 epoch 223.9673330783844 sec\n",
      "\n",
      "Epoch 47 Batch 0 Loss 0.0268\n",
      "Epoch 47 Batch 100 Loss 0.0419\n",
      "Epoch 47 Batch 200 Loss 0.0263\n",
      "Epoch 47 Batch 300 Loss 0.0351\n",
      "Epoch 47 Batch 400 Loss 0.0375\n",
      "Epoch 47 Batch 500 Loss 0.0384\n",
      "Epoch 47 Batch 600 Loss 0.0284\n",
      "Epoch 47 Batch 700 Loss 0.0311\n",
      "Epoch 47 Batch 800 Loss 0.0395\n",
      "Epoch 47 Batch 900 Loss 0.0636\n",
      "Epoch 47 Batch 1000 Loss 0.0330\n",
      "Epoch 47 Batch 1100 Loss 0.0521\n",
      "Epoch 47 Batch 1200 Loss 0.0356\n",
      "Epoch 47 Loss 0.0396\n",
      "Time taken for 1 epoch 458.12903356552124 sec\n",
      "\n",
      "Epoch 48 Batch 0 Loss 0.0209\n",
      "Epoch 48 Batch 100 Loss 0.0284\n",
      "Epoch 48 Batch 200 Loss 0.0421\n",
      "Epoch 48 Batch 300 Loss 0.0248\n",
      "Epoch 48 Batch 400 Loss 0.0336\n",
      "Epoch 48 Batch 500 Loss 0.0579\n",
      "Epoch 48 Batch 600 Loss 0.0451\n",
      "Epoch 48 Batch 700 Loss 0.0413\n",
      "Epoch 48 Batch 800 Loss 0.0304\n",
      "Epoch 48 Batch 900 Loss 0.0408\n",
      "Epoch 48 Batch 1000 Loss 0.0716\n",
      "Epoch 48 Batch 1100 Loss 0.0441\n",
      "Epoch 48 Batch 1200 Loss 0.0613\n",
      "Epoch 48 Loss 0.0394\n",
      "Time taken for 1 epoch 413.9184305667877 sec\n",
      "\n",
      "Epoch 49 Batch 0 Loss 0.0355\n",
      "Epoch 49 Batch 100 Loss 0.0374\n",
      "Epoch 49 Batch 200 Loss 0.0273\n",
      "Epoch 49 Batch 300 Loss 0.0337\n",
      "Epoch 49 Batch 400 Loss 0.0387\n",
      "Epoch 49 Batch 500 Loss 0.0324\n",
      "Epoch 49 Batch 600 Loss 0.0374\n",
      "Epoch 49 Batch 700 Loss 0.0249\n",
      "Epoch 49 Batch 800 Loss 0.0295\n",
      "Epoch 49 Batch 900 Loss 0.0513\n",
      "Epoch 49 Batch 1000 Loss 0.0366\n",
      "Epoch 49 Batch 1100 Loss 0.0520\n",
      "Epoch 49 Batch 1200 Loss 0.0276\n",
      "Epoch 49 Loss 0.0397\n",
      "Time taken for 1 epoch 241.3207643032074 sec\n",
      "\n",
      "Epoch 50 Batch 0 Loss 0.0376\n",
      "Epoch 50 Batch 100 Loss 0.0394\n",
      "Epoch 50 Batch 200 Loss 0.0283\n",
      "Epoch 50 Batch 300 Loss 0.0183\n",
      "Epoch 50 Batch 400 Loss 0.0328\n",
      "Epoch 50 Batch 500 Loss 0.0538\n",
      "Epoch 50 Batch 600 Loss 0.0272\n",
      "Epoch 50 Batch 700 Loss 0.0523\n",
      "Epoch 50 Batch 800 Loss 0.0422\n",
      "Epoch 50 Batch 900 Loss 0.0295\n",
      "Epoch 50 Batch 1000 Loss 0.0562\n",
      "Epoch 50 Batch 1100 Loss 0.0565\n",
      "Epoch 50 Batch 1200 Loss 0.0657\n",
      "Epoch 50 Loss 0.0384\n",
      "Time taken for 1 epoch 281.9942636489868 sec\n",
      "\n"
     ]
    }
   ],
   "source": [
    "EPOCHS = 50\n",
    "\n",
    "for epoch in range(EPOCHS):\n",
    "  start = time.time()\n",
    "\n",
    "  enc_hidden = encoder.initialize_hidden_state()\n",
    "  total_loss = 0\n",
    "\n",
    "  for (batch, (inp, targ)) in enumerate(dataset.take(steps_per_epoch)):\n",
    "    batch_loss = train_step(inp, targ, enc_hidden)\n",
    "    total_loss += batch_loss\n",
    "\n",
    "    if batch % 100 == 0:\n",
    "      print('Epoch {} Batch {} Loss {:.4f}'.format(epoch + 1,\n",
    "                                                   batch,\n",
    "                                                   batch_loss.numpy()))\n",
    "  # saving (checkpoint) the model every 2 epochs\n",
    "  if (epoch + 1) % 2 == 0:\n",
    "    checkpoint.save(file_prefix = checkpoint_prefix)\n",
    "\n",
    "  print('Epoch {} Loss {:.4f}'.format(epoch + 1,\n",
    "                                      total_loss / steps_per_epoch))\n",
    "  print('Time taken for 1 epoch {} sec\\n'.format(time.time() - start))"
   ]
  },
  {
   "cell_type": "code",
   "execution_count": 29,
   "metadata": {},
   "outputs": [],
   "source": [
    "def evaluate(sentence):\n",
    "  attention_plot = np.zeros((max_length_targ, max_length_inp))\n",
    "\n",
    "  sentence = preprocess_sentence(sentence)\n",
    "\n",
    "  inputs = [inp_lang.word_index[i] for i in sentence.split(' ')]\n",
    "  inputs = tf.keras.preprocessing.sequence.pad_sequences([inputs],\n",
    "                                                         maxlen=max_length_inp,\n",
    "                                                         padding='post')\n",
    "  inputs = tf.convert_to_tensor(inputs)\n",
    "\n",
    "  result = ''\n",
    "\n",
    "  hidden = [tf.zeros((1, units))]\n",
    "  enc_out, enc_hidden = encoder(inputs, hidden)\n",
    "\n",
    "  dec_hidden = enc_hidden\n",
    "  dec_input = tf.expand_dims([targ_lang.word_index['<start>']], 0)\n",
    "\n",
    "  for t in range(max_length_targ):\n",
    "    predictions, dec_hidden, attention_weights = decoder(dec_input,\n",
    "                                                         dec_hidden,\n",
    "                                                         enc_out)\n",
    "\n",
    "    # storing the attention weights to plot later on\n",
    "    attention_weights = tf.reshape(attention_weights, (-1, ))\n",
    "    attention_plot[t] = attention_weights.numpy()\n",
    "\n",
    "    predicted_id = tf.argmax(predictions[0]).numpy()\n",
    "\n",
    "    result += targ_lang.index_word[predicted_id] + ' '\n",
    "\n",
    "    if targ_lang.index_word[predicted_id] == '<end>':\n",
    "      return result, sentence, attention_plot\n",
    "\n",
    "    # the predicted ID is fed back into the model\n",
    "    dec_input = tf.expand_dims([predicted_id], 0)\n",
    "\n",
    "  return result, sentence, attention_plot"
   ]
  },
  {
   "cell_type": "code",
   "execution_count": 33,
   "metadata": {},
   "outputs": [],
   "source": [
    "def plot_attention(attention, sentence, predicted_sentence):\n",
    "  fig = plt.figure(figsize=(10,10))\n",
    "  ax = fig.add_subplot(1, 1, 1)\n",
    "  ax.matshow(attention, cmap='viridis')\n",
    "\n",
    "  fontdict = {'fontsize': 14}\n",
    "\n",
    "  ax.set_xticklabels([''] + sentence, fontdict=fontdict, rotation=90)\n",
    "  ax.set_yticklabels([''] + predicted_sentence, fontdict=fontdict)\n",
    "\n",
    "  ax.xaxis.set_major_locator(ticker.MultipleLocator(1))\n",
    "  ax.yaxis.set_major_locator(ticker.MultipleLocator(1))\n",
    "\n",
    "  plt.show()"
   ]
  },
  {
   "cell_type": "code",
   "execution_count": 30,
   "metadata": {},
   "outputs": [],
   "source": [
    "def translate(sentence):\n",
    "  result, sentence, attention_plot = evaluate(sentence)\n",
    "\n",
    "  print('Input: %s' % (sentence))\n",
    "  print('Predicted translation: {}'.format(result))\n",
    "\n",
    "  attention_plot = attention_plot[:len(result.split(' ')), :len(sentence.split(' '))]\n",
    "  plot_attention(attention_plot, sentence.split(' '), result.split(' '))"
   ]
  },
  {
   "cell_type": "markdown",
   "metadata": {
    "id": "n250XbnjOaqP"
   },
   "source": [
    "## Restore the latest checkpoint and test"
   ]
  },
  {
   "cell_type": "markdown",
   "metadata": {},
   "source": [
    "## 1. No attention"
   ]
  },
  {
   "cell_type": "code",
   "execution_count": 35,
   "metadata": {
    "colab": {
     "base_uri": "https://localhost:8080/"
    },
    "id": "UJpT9D5_OgP6",
    "outputId": "d65a0803-025f-4810-f49d-4f71e4944528"
   },
   "outputs": [
    {
     "data": {
      "text/plain": [
       "<tensorflow.python.training.tracking.util.CheckpointLoadStatus at 0x202074eebc8>"
      ]
     },
     "execution_count": 35,
     "metadata": {},
     "output_type": "execute_result"
    }
   ],
   "source": [
    "# restoring the latest checkpoint in checkpoint_dir\n",
    "checkpoint.restore(tf.train.latest_checkpoint(checkpoint_dir))"
   ]
  },
  {
   "cell_type": "code",
   "execution_count": 36,
   "metadata": {},
   "outputs": [
    {
     "name": "stdout",
     "output_type": "stream",
     "text": [
      "Input: <start> здесь хорошо . <end>\n",
      "Predicted translation: here's the good one . <end> \n"
     ]
    }
   ],
   "source": [
    "translate('Здесь хорошо.')"
   ]
  },
  {
   "cell_type": "code",
   "execution_count": 37,
   "metadata": {},
   "outputs": [
    {
     "name": "stdout",
     "output_type": "stream",
     "text": [
      "Input: <start> я не смогу поехать . <end>\n",
      "Predicted translation: i can't go . <end> \n"
     ]
    }
   ],
   "source": [
    "translate('Я не смогу поехать.')"
   ]
  },
  {
   "cell_type": "code",
   "execution_count": 38,
   "metadata": {},
   "outputs": [
    {
     "name": "stdout",
     "output_type": "stream",
     "text": [
      "Input: <start> вы еще дома ? <end>\n",
      "Predicted translation: are you still home ? <end> \n"
     ]
    }
   ],
   "source": [
    "translate(u'Вы еще дома?')"
   ]
  },
  {
   "cell_type": "code",
   "execution_count": 39,
   "metadata": {},
   "outputs": [
    {
     "name": "stdout",
     "output_type": "stream",
     "text": [
      "Input: <start> вы все еще дома ? <end>\n",
      "Predicted translation: are you still home ? <end> \n"
     ]
    }
   ],
   "source": [
    "translate(u'Вы все еще дома?')"
   ]
  },
  {
   "cell_type": "code",
   "execution_count": 40,
   "metadata": {},
   "outputs": [
    {
     "name": "stdout",
     "output_type": "stream",
     "text": [
      "Input: <start> попробуй сделать это . <end>\n",
      "Predicted translation: try to do that . <end> \n"
     ]
    }
   ],
   "source": [
    "translate(u'Попробуй сделать это.')"
   ]
  },
  {
   "cell_type": "code",
   "execution_count": 41,
   "metadata": {},
   "outputs": [
    {
     "name": "stdout",
     "output_type": "stream",
     "text": [
      "Input: <start> я люблю , когда идет снег . <end>\n",
      "Predicted translation: i like them and come . <end> \n"
     ]
    }
   ],
   "source": [
    "translate(u'Я люблю, когда идет снег.')"
   ]
  },
  {
   "cell_type": "code",
   "execution_count": 42,
   "metadata": {},
   "outputs": [
    {
     "name": "stdout",
     "output_type": "stream",
     "text": [
      "Input: <start> я никогда такого не делаю . <end>\n",
      "Predicted translation: i'm never doing that . <end> \n"
     ]
    }
   ],
   "source": [
    "translate(u'Я никогда такого не делаю.')"
   ]
  },
  {
   "cell_type": "markdown",
   "metadata": {},
   "source": [
    "## 1. With attention"
   ]
  },
  {
   "cell_type": "code",
   "execution_count": 34,
   "metadata": {},
   "outputs": [
    {
     "data": {
      "text/plain": [
       "<tensorflow.python.training.tracking.util.CheckpointLoadStatus at 0x18111b1a508>"
      ]
     },
     "execution_count": 34,
     "metadata": {},
     "output_type": "execute_result"
    }
   ],
   "source": [
    "# restoring the latest checkpoint in checkpoint_dir\n",
    "checkpoint.restore(tf.train.latest_checkpoint(checkpoint_dir))"
   ]
  },
  {
   "cell_type": "code",
   "execution_count": 35,
   "metadata": {},
   "outputs": [
    {
     "name": "stdout",
     "output_type": "stream",
     "text": [
      "Input: <start> здесь хорошо . <end>\n",
      "Predicted translation: it's good here . <end> \n"
     ]
    },
    {
     "data": {
      "image/png": "[encoded data removed]",
      "text/plain": [
       "<Figure size 720x720 with 1 Axes>"
      ]
     },
     "metadata": {
      "needs_background": "light"
     },
     "output_type": "display_data"
    }
   ],
   "source": [
    "translate('Здесь хорошо.')"
   ]
  },
  {
   "cell_type": "code",
   "execution_count": 36,
   "metadata": {},
   "outputs": [
    {
     "name": "stdout",
     "output_type": "stream",
     "text": [
      "Input: <start> я не смогу поехать . <end>\n",
      "Predicted translation: i can't go . <end> \n"
     ]
    },
    {
     "data": {
      "image/png": "[encoded data removed]",
      "text/plain": [
       "<Figure size 720x720 with 1 Axes>"
      ]
     },
     "metadata": {
      "needs_background": "light"
     },
     "output_type": "display_data"
    }
   ],
   "source": [
    "translate('Я не смогу поехать.')"
   ]
  },
  {
   "cell_type": "code",
   "execution_count": 37,
   "metadata": {},
   "outputs": [
    {
     "name": "stdout",
     "output_type": "stream",
     "text": [
      "Input: <start> вы еще дома ? <end>\n",
      "Predicted translation: are you still home ? <end> \n"
     ]
    },
    {
     "data": {
      "image/png": "[encoded data removed]",
      "text/plain": [
       "<Figure size 720x720 with 1 Axes>"
      ]
     },
     "metadata": {
      "needs_background": "light"
     },
     "output_type": "display_data"
    }
   ],
   "source": [
    "translate(u'Вы еще дома?')"
   ]
  },
  {
   "cell_type": "code",
   "execution_count": 38,
   "metadata": {},
   "outputs": [
    {
     "name": "stdout",
     "output_type": "stream",
     "text": [
      "Input: <start> вы все еще дома ? <end>\n",
      "Predicted translation: are you still at home ? <end> \n"
     ]
    },
    {
     "data": {
      "image/png": "[encoded data removed]",
      "text/plain": [
       "<Figure size 720x720 with 1 Axes>"
      ]
     },
     "metadata": {
      "needs_background": "light"
     },
     "output_type": "display_data"
    }
   ],
   "source": [
    "translate(u'Вы все еще дома?')"
   ]
  },
  {
   "cell_type": "code",
   "execution_count": 39,
   "metadata": {},
   "outputs": [
    {
     "name": "stdout",
     "output_type": "stream",
     "text": [
      "Input: <start> попробуй сделать это . <end>\n",
      "Predicted translation: try to do that . <end> \n"
     ]
    },
    {
     "data": {
      "image/png": "[encoded data removed]",
      "text/plain": [
       "<Figure size 720x720 with 1 Axes>"
      ]
     },
     "metadata": {
      "needs_background": "light"
     },
     "output_type": "display_data"
    }
   ],
   "source": [
    "translate(u'Попробуй сделать это.')"
   ]
  },
  {
   "cell_type": "code",
   "execution_count": 40,
   "metadata": {},
   "outputs": [
    {
     "name": "stdout",
     "output_type": "stream",
     "text": [
      "Input: <start> я люблю , когда идет снег . <end>\n",
      "Predicted translation: i love him snow . <end> \n"
     ]
    },
    {
     "data": {
      "image/png": "[encoded data removed]",
      "text/plain": [
       "<Figure size 720x720 with 1 Axes>"
      ]
     },
     "metadata": {
      "needs_background": "light"
     },
     "output_type": "display_data"
    }
   ],
   "source": [
    "translate(u'Я люблю, когда идет снег.')"
   ]
  },
  {
   "cell_type": "code",
   "execution_count": 41,
   "metadata": {},
   "outputs": [
    {
     "name": "stdout",
     "output_type": "stream",
     "text": [
      "Input: <start> я никогда такого не делаю . <end>\n",
      "Predicted translation: i never do that . <end> \n"
     ]
    },
    {
     "data": {
      "image/png": "[encoded data removed]",
      "text/plain": [
       "<Figure size 720x720 with 1 Axes>"
      ]
     },
     "metadata": {
      "needs_background": "light"
     },
     "output_type": "display_data"
    }
   ],
   "source": [
    "translate(u'Я никогда такого не делаю.')"
   ]
  },
  {
   "cell_type": "markdown",
   "metadata": {},
   "source": [
    "## Изначально"
   ]
  },
  {
   "cell_type": "code",
   "execution_count": null,
   "metadata": {
    "colab": {
     "base_uri": "https://localhost:8080/"
    },
    "id": "WrAM0FDomq3E",
    "outputId": "143e39a1-fa22-4635-e852-5e641ed0a086"
   },
   "outputs": [
    {
     "name": "stdout",
     "output_type": "stream",
     "text": [
      "Input: <start> здесь хорошо . <end>\n",
      "Predicted translation: it's part here . <end> \n"
     ]
    }
   ],
   "source": [
    "translate('Здесь хорошо.')"
   ]
  },
  {
   "cell_type": "code",
   "execution_count": null,
   "metadata": {
    "colab": {
     "base_uri": "https://localhost:8080/"
    },
    "id": "5bhFfwcIMX5i",
    "outputId": "5cf5d1a2-0e5e-44e9-89c3-ed89fed9c7df"
   },
   "outputs": [
    {
     "name": "stdout",
     "output_type": "stream",
     "text": [
      "Input: <start> я не смогу поехать . <end>\n",
      "Predicted translation: i can't go . <end> \n"
     ]
    }
   ],
   "source": [
    "translate('Я не смогу поехать.')"
   ]
  },
  {
   "cell_type": "code",
   "execution_count": null,
   "metadata": {
    "colab": {
     "base_uri": "https://localhost:8080/"
    },
    "id": "zSx2iM36EZQZ",
    "outputId": "d4cfe232-ef0b-4ab4-a0b2-110733aaa36c"
   },
   "outputs": [
    {
     "name": "stdout",
     "output_type": "stream",
     "text": [
      "Input: <start> вы еще дома ? <end>\n",
      "Predicted translation: are you home alone ? <end> \n"
     ]
    }
   ],
   "source": [
    "translate(u'Вы еще дома?')"
   ]
  },
  {
   "cell_type": "code",
   "execution_count": null,
   "metadata": {
    "colab": {
     "base_uri": "https://localhost:8080/"
    },
    "id": "A3LLCx3ZE0Ls",
    "outputId": "b64aa087-8232-474e-e3c7-98c186081845"
   },
   "outputs": [
    {
     "name": "stdout",
     "output_type": "stream",
     "text": [
      "Input: <start> вы все еще дома ? <end>\n",
      "Predicted translation: can you still home ? <end> \n"
     ]
    }
   ],
   "source": [
    "translate(u'Вы все еще дома?')"
   ]
  },
  {
   "cell_type": "code",
   "execution_count": null,
   "metadata": {
    "colab": {
     "base_uri": "https://localhost:8080/"
    },
    "id": "DUQVLVqUE1YW",
    "outputId": "b13a0911-5243-463c-ac2b-5381fe027c51"
   },
   "outputs": [
    {
     "name": "stdout",
     "output_type": "stream",
     "text": [
      "Input: <start> попробуй сделать это . <end>\n",
      "Predicted translation: try to do that . <end> \n"
     ]
    }
   ],
   "source": [
    "translate(u'Попробуй сделать это.')"
   ]
  },
  {
   "cell_type": "code",
   "execution_count": null,
   "metadata": {
    "colab": {
     "base_uri": "https://localhost:8080/"
    },
    "id": "f09_hUFx9EJh",
    "outputId": "c23aaff7-a432-45f3-f15e-4cfa2b5d74a7"
   },
   "outputs": [
    {
     "name": "stdout",
     "output_type": "stream",
     "text": [
      "Input: <start> я люблю , когда идет снег . <end>\n",
      "Predicted translation: i love how it will . <end> \n"
     ]
    }
   ],
   "source": [
    "translate(u'Я люблю, когда идет снег.')"
   ]
  },
  {
   "cell_type": "code",
   "execution_count": null,
   "metadata": {
    "colab": {
     "base_uri": "https://localhost:8080/"
    },
    "id": "e7c5p8rmkHQG",
    "outputId": "d4682d71-f778-41f5-e4a9-2e1235976123"
   },
   "outputs": [
    {
     "name": "stdout",
     "output_type": "stream",
     "text": [
      "Input: <start> я никогда такого не делаю . <end>\n",
      "Predicted translation: i never do that . <end> \n"
     ]
    }
   ],
   "source": [
    "translate(u'Я никогда такого не делаю.')"
   ]
  },
  {
   "cell_type": "code",
   "execution_count": null,
   "metadata": {
    "id": "jdXES85KkTVS"
   },
   "outputs": [],
   "source": []
  }
 ],
 "metadata": {
  "accelerator": "GPU",
  "colab": {
   "collapsed_sections": [],
   "name": "nmt.ipynb",
   "provenance": [],
   "toc_visible": true
  },
  "kernelspec": {
   "display_name": "Python 3",
   "language": "python",
   "name": "python3"
  },
  "language_info": {
   "codemirror_mode": {
    "name": "ipython",
    "version": 3
   },
   "file_extension": ".py",
   "mimetype": "text/x-python",
   "name": "python",
   "nbconvert_exporter": "python",
   "pygments_lexer": "ipython3",
   "version": "3.7.7"
  }
 },
 "nbformat": 4,
 "nbformat_minor": 1
}
